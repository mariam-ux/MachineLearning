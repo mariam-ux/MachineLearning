{
 "cells": [
  {
   "cell_type": "markdown",
   "metadata": {},
   "source": [
    "<div style=\"background-color: #e6f7ff; padding: 20px; border-radius: 10px; text-align: center; border: 1px solid #b3e0ff;\">\n",
    "    <h1 style=\"font-size: 2.5em; margin-bottom: 10px; color: #005580;\">Project 2</h1>\n",
    "    <h2 style=\"font-size: 2em; font-weight: normal; color: #007acc;\">(Write Here: MARIAM FAHS)</h2>\n",
    "</div>\n"
   ]
  },
  {
   "cell_type": "markdown",
   "metadata": {},
   "source": [
    "# Introduction\n",
    "\n",
    "<div style=\"background-color: #f9f9f9; padding: 20px; border-radius: 8px; border: 1px solid #ddd; margin-bottom: 20px;\">\n",
    "    <h2 style=\"color: #333;\">About the Dataset</h2>\n",
    "    <p style=\"font-size: 16px; color: #555;\">\n",
    "        This dataset contains information on default payments, demographic factors, credit data, history of payment, and bill statements of credit card clients in Taiwan from April 2005 to September 2005.\n",
    "    </p>\n",
    "</div>\n",
    "\n",
    "<div style=\"background-color: #f9f9f9; padding: 20px; border-radius: 8px; border: 1px solid #ddd; margin-bottom: 20px;\">\n",
    "    <h2 style=\"color: #333;\">Features</h2>\n",
    "    <p style=\"font-size: 16px; color: #555;\">There are 25 features:</p>\n",
    "    <ul style=\"font-size: 16px; color: #555; line-height: 1.6;\">\n",
    "        <li><strong>ID:</strong> ID of each client</li>\n",
    "        <li><strong>LIMIT_BAL:</strong> Amount of given credit in NT dollars (includes individual and family/supplementary credit)</li>\n",
    "        <li><strong>SEX:</strong> Gender (1=male, 2=female)</li>\n",
    "        <li><strong>EDUCATION:</strong> (1=graduate school, 2=university, 3=high school, 4=others, 5=unknown, 6=unknown)</li>\n",
    "        <li><strong>MARRIAGE:</strong> Marital status (1=married, 2=single, 3=others)</li>\n",
    "        <li><strong>AGE:</strong> Age in years</li>\n",
    "        <li><strong>PAY_0:</strong> Repayment status in September 2005 (-1=pay duly, 1=payment delay for one month, 2=payment delay for two months, ... 8=payment delay for eight months, 9=payment delay for nine months and above)</li>\n",
    "        <li><strong>PAY_2:</strong> Repayment status in August 2005 (scale same as above)</li>\n",
    "        <li><strong>PAY_3:</strong> Repayment status in July 2005 (scale same as above)</li>\n",
    "        <li><strong>PAY_4:</strong> Repayment status in June 2005 (scale same as above)</li>\n",
    "        <li><strong>PAY_5:</strong> Repayment status in May 2005 (scale same as above)</li>\n",
    "        <li><strong>PAY_6:</strong> Repayment status in April 2005 (scale same as above)</li>\n",
    "        <li><strong>BILL_AMT1:</strong> Amount of bill statement in September 2005 (NT dollar)</li>\n",
    "        <li><strong>BILL_AMT2:</strong> Amount of bill statement in August 2005 (NT dollar)</li>\n",
    "        <li><strong>BILL_AMT3:</strong> Amount of bill statement in July 2005 (NT dollar)</li>\n",
    "        <li><strong>BILL_AMT4:</strong> Amount of bill statement in June 2005 (NT dollar)</li>\n",
    "        <li><strong>BILL_AMT5:</strong> Amount of bill statement in May 2005 (NT dollar)</li>\n",
    "        <li><strong>BILL_AMT6:</strong> Amount of bill statement in April 2005 (NT dollar)</li>\n",
    "        <li><strong>PAY_AMT1:</strong> Amount of previous payment in September 2005 (NT dollar)</li>\n",
    "        <li><strong>PAY_AMT2:</strong> Amount of previous payment in August 2005 (NT dollar)</li>\n",
    "        <li><strong>PAY_AMT3:</strong> Amount of previous payment in July 2005 (NT dollar)</li>\n",
    "        <li><strong>PAY_AMT4:</strong> Amount of previous payment in June 2005 (NT dollar)</li>\n",
    "        <li><strong>PAY_AMT5:</strong> Amount of previous payment in May 2005 (NT dollar)</li>\n",
    "        <li><strong>PAY_AMT6:</strong> Amount of previous payment in April 2005 (NT dollar)</li>\n",
    "        <li><strong>default.payment.next.month:</strong> Default payment (1=yes, 0=no)</li>\n",
    "    </ul>\n",
    "</div>\n",
    "\n",
    "<div style=\"background-color: #f9f9f9; padding: 20px; border-radius: 8px; border: 1px solid #ddd;\">\n",
    "    <h2 style=\"color: #333;\">Overview</h2>\n",
    "    <p style=\"font-size: 16px; color: #555;\">\n",
    "        You task in this project is to perform all the steps required in the machine learning pipeline to obtain a propoer prediction model of the credit card payment defaulters, including: data cleaning, data analysis, data visualization, and training and evaluation of several machine learning algorithms.\n",
    "    </p >\n",
    "    <p style=\"font-size: 16px; color: #555;\">\n",
    "        We are directing you with the headers and tasks you have to implement to complete this project.\n",
    "        This notebook consists of the following parts:\n",
    "    </p>\n",
    "    <ol style=\"font-size: 16px; color: #555; line-height: 1.6;\">\n",
    "        <li>Exploratory Data Analysis</li>\n",
    "        <li>Data Cleaning and Further Exploration</li>\n",
    "        <li>Building a Base Model</li>\n",
    "        <li>Feature Engineering</li>\n",
    "        <li>Building ML Models Using Various Algorithms and Comparing Them</li>\n",
    "        <li>Conclusion</li>\n",
    "    </ol>\n",
    "    <p style=\"font-size: 20px; color: #011;\">\n",
    "        NOTE: Please don't use ChatGPT or any sort of AI to complete your project. We are aware of how these models generate the answers and this would definitley affect your final grade.\n",
    "    </p>\n",
    "</div>\n"
   ]
  },
  {
   "cell_type": "code",
   "execution_count": 3,
   "metadata": {},
   "outputs": [
    {
     "name": "stdout",
     "output_type": "stream",
     "text": [
      "Defaulting to user installation because normal site-packages is not writeable\n",
      "Requirement already satisfied: imblearn in c:\\users\\acer\\appdata\\roaming\\python\\python312\\site-packages (0.0)\n",
      "Requirement already satisfied: imbalanced-learn in c:\\users\\acer\\appdata\\roaming\\python\\python312\\site-packages (from imblearn) (0.13.0)\n",
      "Requirement already satisfied: numpy<3,>=1.24.3 in c:\\users\\acer\\appdata\\roaming\\python\\python312\\site-packages (from imbalanced-learn->imblearn) (2.0.2)\n",
      "Requirement already satisfied: scipy<2,>=1.10.1 in c:\\users\\acer\\appdata\\roaming\\python\\python312\\site-packages (from imbalanced-learn->imblearn) (1.15.1)\n",
      "Requirement already satisfied: scikit-learn<2,>=1.3.2 in c:\\users\\acer\\appdata\\roaming\\python\\python312\\site-packages (from imbalanced-learn->imblearn) (1.6.1)\n",
      "Requirement already satisfied: sklearn-compat<1,>=0.1 in c:\\users\\acer\\appdata\\roaming\\python\\python312\\site-packages (from imbalanced-learn->imblearn) (0.1.3)\n",
      "Requirement already satisfied: joblib<2,>=1.1.1 in c:\\users\\acer\\appdata\\roaming\\python\\python312\\site-packages (from imbalanced-learn->imblearn) (1.4.2)\n",
      "Requirement already satisfied: threadpoolctl<4,>=2.0.0 in c:\\users\\acer\\appdata\\roaming\\python\\python312\\site-packages (from imbalanced-learn->imblearn) (3.5.0)\n"
     ]
    }
   ],
   "source": [
    "!pip3 install imblearn"
   ]
  },
  {
   "cell_type": "code",
   "execution_count": 3,
   "metadata": {
    "_cell_guid": "2bbbd9be-d5d6-4607-9786-072d67b87303",
    "_kg_hide-output": true,
    "_uuid": "5ba24adc75c0d29f38ff44a0718bb2d8034ba584",
    "scrolled": true
   },
   "outputs": [],
   "source": [
    "#Import basic libraries\n",
    "import numpy as np\n",
    "import pandas as pd \n",
    "import seaborn as sns\n",
    "import matplotlib.pyplot as plt\n",
    "\n",
    "\n",
    "%matplotlib inline\n",
    "pd.set_option('display.max_columns',None)\n",
    "sns.set(style=\"darkgrid\", palette=\"pastel\", color_codes=True)\n",
    "sns.set_context('paper')\n",
    "\n",
    "import plotly.graph_objs as go\n",
    "# from plotly.subplots import make_subplots\n",
    "from plotly.subplots import make_subplots\n",
    "import plotly.io as pio\n",
    "pio.templates.default = \"plotly_dark\"\n",
    "\n",
    "from sklearn.linear_model import LogisticRegression\n",
    "from sklearn.utils import resample \n",
    "from imblearn.over_sampling import SMOTE\n",
    "from sklearn.feature_selection import RFE,SelectFromModel\n",
    "from sklearn.model_selection import KFold,GridSearchCV,RandomizedSearchCV,train_test_split\n",
    "from sklearn.preprocessing import StandardScaler,MinMaxScaler\n",
    "from sklearn.pipeline import Pipeline \n",
    "from sklearn.naive_bayes import GaussianNB\n",
    "from scipy.stats import randint as sp_randint\n",
    "from sklearn.ensemble import RandomForestClassifier\n",
    "from xgboost import XGBClassifier\n",
    "from sklearn.model_selection import cross_val_score\n",
    "from sklearn.metrics import classification_report,confusion_matrix,f1_score,roc_auc_score,roc_curve,accuracy_score\n",
    "from sklearn.neighbors import KNeighborsClassifier\n",
    "from sklearn.tree import DecisionTreeClassifier\n",
    "from sklearn.svm import SVC\n",
    "import plotly.figure_factory as ff \n",
    "\n",
    "import warnings\n",
    "warnings.filterwarnings(\"ignore\")\n",
    "\n",
    "import random\n",
    "random.seed(10)"
   ]
  },
  {
   "cell_type": "code",
   "execution_count": 4,
   "metadata": {
    "_cell_guid": "373de127-2f57-439e-b3fb-febc86cf821c",
    "_uuid": "866eacd59f720b77731a2e041471b5999ac4906c"
   },
   "outputs": [
    {
     "data": {
      "text/html": [
       "<div>\n",
       "<style scoped>\n",
       "    .dataframe tbody tr th:only-of-type {\n",
       "        vertical-align: middle;\n",
       "    }\n",
       "\n",
       "    .dataframe tbody tr th {\n",
       "        vertical-align: top;\n",
       "    }\n",
       "\n",
       "    .dataframe thead th {\n",
       "        text-align: right;\n",
       "    }\n",
       "</style>\n",
       "<table border=\"1\" class=\"dataframe\">\n",
       "  <thead>\n",
       "    <tr style=\"text-align: right;\">\n",
       "      <th></th>\n",
       "      <th>ID</th>\n",
       "      <th>LIMIT_BAL</th>\n",
       "      <th>SEX</th>\n",
       "      <th>EDUCATION</th>\n",
       "      <th>MARRIAGE</th>\n",
       "      <th>AGE</th>\n",
       "      <th>PAY_0</th>\n",
       "      <th>PAY_2</th>\n",
       "      <th>PAY_3</th>\n",
       "      <th>PAY_4</th>\n",
       "      <th>PAY_5</th>\n",
       "      <th>PAY_6</th>\n",
       "      <th>BILL_AMT1</th>\n",
       "      <th>BILL_AMT2</th>\n",
       "      <th>BILL_AMT3</th>\n",
       "      <th>BILL_AMT4</th>\n",
       "      <th>BILL_AMT5</th>\n",
       "      <th>BILL_AMT6</th>\n",
       "      <th>PAY_AMT1</th>\n",
       "      <th>PAY_AMT2</th>\n",
       "      <th>PAY_AMT3</th>\n",
       "      <th>PAY_AMT4</th>\n",
       "      <th>PAY_AMT5</th>\n",
       "      <th>PAY_AMT6</th>\n",
       "      <th>default.payment.next.month</th>\n",
       "    </tr>\n",
       "  </thead>\n",
       "  <tbody>\n",
       "    <tr>\n",
       "      <th>0</th>\n",
       "      <td>1</td>\n",
       "      <td>20000.0</td>\n",
       "      <td>2</td>\n",
       "      <td>2</td>\n",
       "      <td>1</td>\n",
       "      <td>24</td>\n",
       "      <td>2</td>\n",
       "      <td>2</td>\n",
       "      <td>-1</td>\n",
       "      <td>-1</td>\n",
       "      <td>-2</td>\n",
       "      <td>-2</td>\n",
       "      <td>3913.0</td>\n",
       "      <td>3102.0</td>\n",
       "      <td>689.0</td>\n",
       "      <td>0.0</td>\n",
       "      <td>0.0</td>\n",
       "      <td>0.0</td>\n",
       "      <td>0.0</td>\n",
       "      <td>689.0</td>\n",
       "      <td>0.0</td>\n",
       "      <td>0.0</td>\n",
       "      <td>0.0</td>\n",
       "      <td>0.0</td>\n",
       "      <td>1</td>\n",
       "    </tr>\n",
       "    <tr>\n",
       "      <th>1</th>\n",
       "      <td>2</td>\n",
       "      <td>120000.0</td>\n",
       "      <td>2</td>\n",
       "      <td>2</td>\n",
       "      <td>2</td>\n",
       "      <td>26</td>\n",
       "      <td>-1</td>\n",
       "      <td>2</td>\n",
       "      <td>0</td>\n",
       "      <td>0</td>\n",
       "      <td>0</td>\n",
       "      <td>2</td>\n",
       "      <td>2682.0</td>\n",
       "      <td>1725.0</td>\n",
       "      <td>2682.0</td>\n",
       "      <td>3272.0</td>\n",
       "      <td>3455.0</td>\n",
       "      <td>3261.0</td>\n",
       "      <td>0.0</td>\n",
       "      <td>1000.0</td>\n",
       "      <td>1000.0</td>\n",
       "      <td>1000.0</td>\n",
       "      <td>0.0</td>\n",
       "      <td>2000.0</td>\n",
       "      <td>1</td>\n",
       "    </tr>\n",
       "    <tr>\n",
       "      <th>2</th>\n",
       "      <td>3</td>\n",
       "      <td>90000.0</td>\n",
       "      <td>2</td>\n",
       "      <td>2</td>\n",
       "      <td>2</td>\n",
       "      <td>34</td>\n",
       "      <td>0</td>\n",
       "      <td>0</td>\n",
       "      <td>0</td>\n",
       "      <td>0</td>\n",
       "      <td>0</td>\n",
       "      <td>0</td>\n",
       "      <td>29239.0</td>\n",
       "      <td>14027.0</td>\n",
       "      <td>13559.0</td>\n",
       "      <td>14331.0</td>\n",
       "      <td>14948.0</td>\n",
       "      <td>15549.0</td>\n",
       "      <td>1518.0</td>\n",
       "      <td>1500.0</td>\n",
       "      <td>1000.0</td>\n",
       "      <td>1000.0</td>\n",
       "      <td>1000.0</td>\n",
       "      <td>5000.0</td>\n",
       "      <td>0</td>\n",
       "    </tr>\n",
       "    <tr>\n",
       "      <th>3</th>\n",
       "      <td>4</td>\n",
       "      <td>50000.0</td>\n",
       "      <td>2</td>\n",
       "      <td>2</td>\n",
       "      <td>1</td>\n",
       "      <td>37</td>\n",
       "      <td>0</td>\n",
       "      <td>0</td>\n",
       "      <td>0</td>\n",
       "      <td>0</td>\n",
       "      <td>0</td>\n",
       "      <td>0</td>\n",
       "      <td>46990.0</td>\n",
       "      <td>48233.0</td>\n",
       "      <td>49291.0</td>\n",
       "      <td>28314.0</td>\n",
       "      <td>28959.0</td>\n",
       "      <td>29547.0</td>\n",
       "      <td>2000.0</td>\n",
       "      <td>2019.0</td>\n",
       "      <td>1200.0</td>\n",
       "      <td>1100.0</td>\n",
       "      <td>1069.0</td>\n",
       "      <td>1000.0</td>\n",
       "      <td>0</td>\n",
       "    </tr>\n",
       "    <tr>\n",
       "      <th>4</th>\n",
       "      <td>5</td>\n",
       "      <td>50000.0</td>\n",
       "      <td>1</td>\n",
       "      <td>2</td>\n",
       "      <td>1</td>\n",
       "      <td>57</td>\n",
       "      <td>-1</td>\n",
       "      <td>0</td>\n",
       "      <td>-1</td>\n",
       "      <td>0</td>\n",
       "      <td>0</td>\n",
       "      <td>0</td>\n",
       "      <td>8617.0</td>\n",
       "      <td>5670.0</td>\n",
       "      <td>35835.0</td>\n",
       "      <td>20940.0</td>\n",
       "      <td>19146.0</td>\n",
       "      <td>19131.0</td>\n",
       "      <td>2000.0</td>\n",
       "      <td>36681.0</td>\n",
       "      <td>10000.0</td>\n",
       "      <td>9000.0</td>\n",
       "      <td>689.0</td>\n",
       "      <td>679.0</td>\n",
       "      <td>0</td>\n",
       "    </tr>\n",
       "  </tbody>\n",
       "</table>\n",
       "</div>"
      ],
      "text/plain": [
       "   ID  LIMIT_BAL  SEX  EDUCATION  MARRIAGE  AGE  PAY_0  PAY_2  PAY_3  PAY_4  \\\n",
       "0   1    20000.0    2          2         1   24      2      2     -1     -1   \n",
       "1   2   120000.0    2          2         2   26     -1      2      0      0   \n",
       "2   3    90000.0    2          2         2   34      0      0      0      0   \n",
       "3   4    50000.0    2          2         1   37      0      0      0      0   \n",
       "4   5    50000.0    1          2         1   57     -1      0     -1      0   \n",
       "\n",
       "   PAY_5  PAY_6  BILL_AMT1  BILL_AMT2  BILL_AMT3  BILL_AMT4  BILL_AMT5  \\\n",
       "0     -2     -2     3913.0     3102.0      689.0        0.0        0.0   \n",
       "1      0      2     2682.0     1725.0     2682.0     3272.0     3455.0   \n",
       "2      0      0    29239.0    14027.0    13559.0    14331.0    14948.0   \n",
       "3      0      0    46990.0    48233.0    49291.0    28314.0    28959.0   \n",
       "4      0      0     8617.0     5670.0    35835.0    20940.0    19146.0   \n",
       "\n",
       "   BILL_AMT6  PAY_AMT1  PAY_AMT2  PAY_AMT3  PAY_AMT4  PAY_AMT5  PAY_AMT6  \\\n",
       "0        0.0       0.0     689.0       0.0       0.0       0.0       0.0   \n",
       "1     3261.0       0.0    1000.0    1000.0    1000.0       0.0    2000.0   \n",
       "2    15549.0    1518.0    1500.0    1000.0    1000.0    1000.0    5000.0   \n",
       "3    29547.0    2000.0    2019.0    1200.0    1100.0    1069.0    1000.0   \n",
       "4    19131.0    2000.0   36681.0   10000.0    9000.0     689.0     679.0   \n",
       "\n",
       "   default.payment.next.month  \n",
       "0                           1  \n",
       "1                           1  \n",
       "2                           0  \n",
       "3                           0  \n",
       "4                           0  "
      ]
     },
     "execution_count": 4,
     "metadata": {},
     "output_type": "execute_result"
    }
   ],
   "source": [
    "# Load the data\n",
    "df = pd.read_csv(\"./UCI_Credit_Card.csv\")\n",
    "df.head(5)"
   ]
  },
  {
   "cell_type": "markdown",
   "metadata": {
    "_cell_guid": "c855e309-85e8-426f-ab80-050b16db868c",
    "_uuid": "391f4b0edb2c804475fd6e35cd738025095f00b5"
   },
   "source": [
    "#### Let's see if the data has any missing values"
   ]
  },
  {
   "cell_type": "code",
   "execution_count": 5,
   "metadata": {},
   "outputs": [
    {
     "data": {
      "text/plain": [
       "ID                            0\n",
       "LIMIT_BAL                     0\n",
       "SEX                           0\n",
       "EDUCATION                     0\n",
       "MARRIAGE                      0\n",
       "AGE                           0\n",
       "PAY_0                         0\n",
       "PAY_2                         0\n",
       "PAY_3                         0\n",
       "PAY_4                         0\n",
       "PAY_5                         0\n",
       "PAY_6                         0\n",
       "BILL_AMT1                     0\n",
       "BILL_AMT2                     0\n",
       "BILL_AMT3                     0\n",
       "BILL_AMT4                     0\n",
       "BILL_AMT5                     0\n",
       "BILL_AMT6                     0\n",
       "PAY_AMT1                      0\n",
       "PAY_AMT2                      0\n",
       "PAY_AMT3                      0\n",
       "PAY_AMT4                      0\n",
       "PAY_AMT5                      0\n",
       "PAY_AMT6                      0\n",
       "default.payment.next.month    0\n",
       "dtype: int64"
      ]
     },
     "execution_count": 5,
     "metadata": {},
     "output_type": "execute_result"
    }
   ],
   "source": [
    "df.isnull().sum()"
   ]
  },
  {
   "cell_type": "markdown",
   "metadata": {},
   "source": [
    "#### Well it looks like there are no missing values which skips one of the main parts of pre-processing i.e. missing value imputation"
   ]
  },
  {
   "cell_type": "markdown",
   "metadata": {},
   "source": [
    "#### Now let's check dtypes of each feature"
   ]
  },
  {
   "cell_type": "code",
   "execution_count": 6,
   "metadata": {
    "_cell_guid": "f6bc9ca2-b40e-4346-838a-922e110d5f20",
    "_uuid": "bf10536e7bcca34164565abf554bffe558ed0d5f"
   },
   "outputs": [
    {
     "name": "stdout",
     "output_type": "stream",
     "text": [
      "<class 'pandas.core.frame.DataFrame'>\n",
      "RangeIndex: 30000 entries, 0 to 29999\n",
      "Data columns (total 25 columns):\n",
      " #   Column                      Non-Null Count  Dtype  \n",
      "---  ------                      --------------  -----  \n",
      " 0   ID                          30000 non-null  int64  \n",
      " 1   LIMIT_BAL                   30000 non-null  float64\n",
      " 2   SEX                         30000 non-null  int64  \n",
      " 3   EDUCATION                   30000 non-null  int64  \n",
      " 4   MARRIAGE                    30000 non-null  int64  \n",
      " 5   AGE                         30000 non-null  int64  \n",
      " 6   PAY_0                       30000 non-null  int64  \n",
      " 7   PAY_2                       30000 non-null  int64  \n",
      " 8   PAY_3                       30000 non-null  int64  \n",
      " 9   PAY_4                       30000 non-null  int64  \n",
      " 10  PAY_5                       30000 non-null  int64  \n",
      " 11  PAY_6                       30000 non-null  int64  \n",
      " 12  BILL_AMT1                   30000 non-null  float64\n",
      " 13  BILL_AMT2                   30000 non-null  float64\n",
      " 14  BILL_AMT3                   30000 non-null  float64\n",
      " 15  BILL_AMT4                   30000 non-null  float64\n",
      " 16  BILL_AMT5                   30000 non-null  float64\n",
      " 17  BILL_AMT6                   30000 non-null  float64\n",
      " 18  PAY_AMT1                    30000 non-null  float64\n",
      " 19  PAY_AMT2                    30000 non-null  float64\n",
      " 20  PAY_AMT3                    30000 non-null  float64\n",
      " 21  PAY_AMT4                    30000 non-null  float64\n",
      " 22  PAY_AMT5                    30000 non-null  float64\n",
      " 23  PAY_AMT6                    30000 non-null  float64\n",
      " 24  default.payment.next.month  30000 non-null  int64  \n",
      "dtypes: float64(13), int64(12)\n",
      "memory usage: 5.7 MB\n"
     ]
    }
   ],
   "source": [
    "df.info()"
   ]
  },
  {
   "cell_type": "markdown",
   "metadata": {},
   "source": [
    "# 1. Statistical description of the features: [3 points]"
   ]
  },
  {
   "cell_type": "markdown",
   "metadata": {},
   "source": [
    "##### 1) Numerical features:\n",
    "- Select the numerical features from the dataset based on the info displayed above\n",
    "- Print the statistical summary from the numerical features (hind: call describe function)"
   ]
  },
  {
   "cell_type": "code",
   "execution_count": 7,
   "metadata": {},
   "outputs": [
    {
     "data": {
      "text/plain": [
       "<bound method NDFrame.describe of           ID  LIMIT_BAL  SEX  EDUCATION  MARRIAGE  AGE  PAY_0  PAY_2  PAY_3  \\\n",
       "0          1    20000.0    2          2         1   24      2      2     -1   \n",
       "1          2   120000.0    2          2         2   26     -1      2      0   \n",
       "2          3    90000.0    2          2         2   34      0      0      0   \n",
       "3          4    50000.0    2          2         1   37      0      0      0   \n",
       "4          5    50000.0    1          2         1   57     -1      0     -1   \n",
       "...      ...        ...  ...        ...       ...  ...    ...    ...    ...   \n",
       "29995  29996   220000.0    1          3         1   39      0      0      0   \n",
       "29996  29997   150000.0    1          3         2   43     -1     -1     -1   \n",
       "29997  29998    30000.0    1          2         2   37      4      3      2   \n",
       "29998  29999    80000.0    1          3         1   41      1     -1      0   \n",
       "29999  30000    50000.0    1          2         1   46      0      0      0   \n",
       "\n",
       "       PAY_4  PAY_5  PAY_6  BILL_AMT1  BILL_AMT2  BILL_AMT3  BILL_AMT4  \\\n",
       "0         -1     -2     -2     3913.0     3102.0      689.0        0.0   \n",
       "1          0      0      2     2682.0     1725.0     2682.0     3272.0   \n",
       "2          0      0      0    29239.0    14027.0    13559.0    14331.0   \n",
       "3          0      0      0    46990.0    48233.0    49291.0    28314.0   \n",
       "4          0      0      0     8617.0     5670.0    35835.0    20940.0   \n",
       "...      ...    ...    ...        ...        ...        ...        ...   \n",
       "29995      0      0      0   188948.0   192815.0   208365.0    88004.0   \n",
       "29996     -1      0      0     1683.0     1828.0     3502.0     8979.0   \n",
       "29997     -1      0      0     3565.0     3356.0     2758.0    20878.0   \n",
       "29998      0      0     -1    -1645.0    78379.0    76304.0    52774.0   \n",
       "29999      0      0      0    47929.0    48905.0    49764.0    36535.0   \n",
       "\n",
       "       BILL_AMT5  BILL_AMT6  PAY_AMT1  PAY_AMT2  PAY_AMT3  PAY_AMT4  PAY_AMT5  \\\n",
       "0            0.0        0.0       0.0     689.0       0.0       0.0       0.0   \n",
       "1         3455.0     3261.0       0.0    1000.0    1000.0    1000.0       0.0   \n",
       "2        14948.0    15549.0    1518.0    1500.0    1000.0    1000.0    1000.0   \n",
       "3        28959.0    29547.0    2000.0    2019.0    1200.0    1100.0    1069.0   \n",
       "4        19146.0    19131.0    2000.0   36681.0   10000.0    9000.0     689.0   \n",
       "...          ...        ...       ...       ...       ...       ...       ...   \n",
       "29995    31237.0    15980.0    8500.0   20000.0    5003.0    3047.0    5000.0   \n",
       "29996     5190.0        0.0    1837.0    3526.0    8998.0     129.0       0.0   \n",
       "29997    20582.0    19357.0       0.0       0.0   22000.0    4200.0    2000.0   \n",
       "29998    11855.0    48944.0   85900.0    3409.0    1178.0    1926.0   52964.0   \n",
       "29999    32428.0    15313.0    2078.0    1800.0    1430.0    1000.0    1000.0   \n",
       "\n",
       "       PAY_AMT6  default.payment.next.month  \n",
       "0           0.0                           1  \n",
       "1        2000.0                           1  \n",
       "2        5000.0                           0  \n",
       "3        1000.0                           0  \n",
       "4         679.0                           0  \n",
       "...         ...                         ...  \n",
       "29995    1000.0                           0  \n",
       "29996       0.0                           0  \n",
       "29997    3100.0                           1  \n",
       "29998    1804.0                           1  \n",
       "29999    1000.0                           1  \n",
       "\n",
       "[30000 rows x 25 columns]>"
      ]
     },
     "execution_count": 7,
     "metadata": {},
     "output_type": "execute_result"
    }
   ],
   "source": [
    "df.describe"
   ]
  },
  {
   "cell_type": "code",
   "execution_count": 8,
   "metadata": {
    "scrolled": true
   },
   "outputs": [
    {
     "data": {
      "text/plain": [
       "<bound method NDFrame.describe of        LIMIT_BAL  AGE  BILL_AMT1  BILL_AMT2  BILL_AMT3  BILL_AMT4  BILL_AMT5  \\\n",
       "0        20000.0   24     3913.0     3102.0      689.0        0.0        0.0   \n",
       "1       120000.0   26     2682.0     1725.0     2682.0     3272.0     3455.0   \n",
       "2        90000.0   34    29239.0    14027.0    13559.0    14331.0    14948.0   \n",
       "3        50000.0   37    46990.0    48233.0    49291.0    28314.0    28959.0   \n",
       "4        50000.0   57     8617.0     5670.0    35835.0    20940.0    19146.0   \n",
       "...          ...  ...        ...        ...        ...        ...        ...   \n",
       "29995   220000.0   39   188948.0   192815.0   208365.0    88004.0    31237.0   \n",
       "29996   150000.0   43     1683.0     1828.0     3502.0     8979.0     5190.0   \n",
       "29997    30000.0   37     3565.0     3356.0     2758.0    20878.0    20582.0   \n",
       "29998    80000.0   41    -1645.0    78379.0    76304.0    52774.0    11855.0   \n",
       "29999    50000.0   46    47929.0    48905.0    49764.0    36535.0    32428.0   \n",
       "\n",
       "       BILL_AMT6  PAY_AMT1  PAY_AMT2  PAY_AMT3  PAY_AMT4  PAY_AMT5  PAY_AMT6  \n",
       "0            0.0       0.0     689.0       0.0       0.0       0.0       0.0  \n",
       "1         3261.0       0.0    1000.0    1000.0    1000.0       0.0    2000.0  \n",
       "2        15549.0    1518.0    1500.0    1000.0    1000.0    1000.0    5000.0  \n",
       "3        29547.0    2000.0    2019.0    1200.0    1100.0    1069.0    1000.0  \n",
       "4        19131.0    2000.0   36681.0   10000.0    9000.0     689.0     679.0  \n",
       "...          ...       ...       ...       ...       ...       ...       ...  \n",
       "29995    15980.0    8500.0   20000.0    5003.0    3047.0    5000.0    1000.0  \n",
       "29996        0.0    1837.0    3526.0    8998.0     129.0       0.0       0.0  \n",
       "29997    19357.0       0.0       0.0   22000.0    4200.0    2000.0    3100.0  \n",
       "29998    48944.0   85900.0    3409.0    1178.0    1926.0   52964.0    1804.0  \n",
       "29999    15313.0    2078.0    1800.0    1430.0    1000.0    1000.0    1000.0  \n",
       "\n",
       "[30000 rows x 14 columns]>"
      ]
     },
     "execution_count": 8,
     "metadata": {},
     "output_type": "execute_result"
    }
   ],
   "source": [
    "# <write your code here>\n",
    "num_featurs = [\"LIMIT_BAL\",\"AGE\",\"BILL_AMT1\",\"BILL_AMT2\", \"BILL_AMT3\",\"BILL_AMT4\",\"BILL_AMT5\", \"BILL_AMT6\",\"PAY_AMT1\",\"PAY_AMT2\",\"PAY_AMT3\", \"PAY_AMT4\", \"PAY_AMT5\", \"PAY_AMT6\"]\n",
    "df_num = df[num_featurs]\n",
    "df_num.describe"
   ]
  },
  {
   "cell_type": "markdown",
   "metadata": {},
   "source": [
    "##### 2) Categorical features:\n",
    "- Select the categorical features from the dataset based on the info displayed above\n",
    "- Print the statistical summary from the categorical features (hind: call describe function)"
   ]
  },
  {
   "cell_type": "code",
   "execution_count": 9,
   "metadata": {
    "_cell_guid": "f1796586-38ba-4b68-990e-33323cbc2856",
    "_uuid": "7ff6b6f89760fafc327b3852e03333fb547ff784",
    "scrolled": true
   },
   "outputs": [
    {
     "data": {
      "text/plain": [
       "<bound method NDFrame.describe of        SEX  EDUCATION  MARRIAGE  PAY_0  PAY_2  PAY_3  PAY_4  PAY_6  \\\n",
       "0        2          2         1      2      2     -1     -1     -2   \n",
       "1        2          2         2     -1      2      0      0      2   \n",
       "2        2          2         2      0      0      0      0      0   \n",
       "3        2          2         1      0      0      0      0      0   \n",
       "4        1          2         1     -1      0     -1      0      0   \n",
       "...    ...        ...       ...    ...    ...    ...    ...    ...   \n",
       "29995    1          3         1      0      0      0      0      0   \n",
       "29996    1          3         2     -1     -1     -1     -1      0   \n",
       "29997    1          2         2      4      3      2     -1      0   \n",
       "29998    1          3         1      1     -1      0      0     -1   \n",
       "29999    1          2         1      0      0      0      0      0   \n",
       "\n",
       "       default.payment.next.month  \n",
       "0                               1  \n",
       "1                               1  \n",
       "2                               0  \n",
       "3                               0  \n",
       "4                               0  \n",
       "...                           ...  \n",
       "29995                           0  \n",
       "29996                           0  \n",
       "29997                           1  \n",
       "29998                           1  \n",
       "29999                           1  \n",
       "\n",
       "[30000 rows x 9 columns]>"
      ]
     },
     "execution_count": 9,
     "metadata": {},
     "output_type": "execute_result"
    }
   ],
   "source": [
    "# <write your code here>\n",
    "cat_features = [\"SEX\",\"EDUCATION\",\"MARRIAGE\",\"PAY_0\",\"PAY_2\",\"PAY_3\",\"PAY_4\", \"PAY_6\", \"default.payment.next.month\"]\n",
    "df_cat=df[cat_features]\n",
    "df_cat.describe"
   ]
  },
  {
   "cell_type": "markdown",
   "metadata": {},
   "source": [
    "#### 3) Rename:\n",
    "   - the target column to \"default\"\n",
    "   - payment status \"PAY_0\" \"PAY_1\" to make it continous"
   ]
  },
  {
   "cell_type": "code",
   "execution_count": 10,
   "metadata": {},
   "outputs": [
    {
     "data": {
      "text/plain": [
       "<bound method NDFrame.describe of           ID  LIMIT_BAL  SEX  EDUCATION  MARRIAGE  AGE  PAY_1  PAY_2  PAY_3  \\\n",
       "0          1    20000.0    2          2         1   24      2      2     -1   \n",
       "1          2   120000.0    2          2         2   26     -1      2      0   \n",
       "2          3    90000.0    2          2         2   34      0      0      0   \n",
       "3          4    50000.0    2          2         1   37      0      0      0   \n",
       "4          5    50000.0    1          2         1   57     -1      0     -1   \n",
       "...      ...        ...  ...        ...       ...  ...    ...    ...    ...   \n",
       "29995  29996   220000.0    1          3         1   39      0      0      0   \n",
       "29996  29997   150000.0    1          3         2   43     -1     -1     -1   \n",
       "29997  29998    30000.0    1          2         2   37      4      3      2   \n",
       "29998  29999    80000.0    1          3         1   41      1     -1      0   \n",
       "29999  30000    50000.0    1          2         1   46      0      0      0   \n",
       "\n",
       "       PAY_4  PAY_5  PAY_6  BILL_AMT1  BILL_AMT2  BILL_AMT3  BILL_AMT4  \\\n",
       "0         -1     -2     -2     3913.0     3102.0      689.0        0.0   \n",
       "1          0      0      2     2682.0     1725.0     2682.0     3272.0   \n",
       "2          0      0      0    29239.0    14027.0    13559.0    14331.0   \n",
       "3          0      0      0    46990.0    48233.0    49291.0    28314.0   \n",
       "4          0      0      0     8617.0     5670.0    35835.0    20940.0   \n",
       "...      ...    ...    ...        ...        ...        ...        ...   \n",
       "29995      0      0      0   188948.0   192815.0   208365.0    88004.0   \n",
       "29996     -1      0      0     1683.0     1828.0     3502.0     8979.0   \n",
       "29997     -1      0      0     3565.0     3356.0     2758.0    20878.0   \n",
       "29998      0      0     -1    -1645.0    78379.0    76304.0    52774.0   \n",
       "29999      0      0      0    47929.0    48905.0    49764.0    36535.0   \n",
       "\n",
       "       BILL_AMT5  BILL_AMT6  PAY_AMT1  PAY_AMT2  PAY_AMT3  PAY_AMT4  PAY_AMT5  \\\n",
       "0            0.0        0.0       0.0     689.0       0.0       0.0       0.0   \n",
       "1         3455.0     3261.0       0.0    1000.0    1000.0    1000.0       0.0   \n",
       "2        14948.0    15549.0    1518.0    1500.0    1000.0    1000.0    1000.0   \n",
       "3        28959.0    29547.0    2000.0    2019.0    1200.0    1100.0    1069.0   \n",
       "4        19146.0    19131.0    2000.0   36681.0   10000.0    9000.0     689.0   \n",
       "...          ...        ...       ...       ...       ...       ...       ...   \n",
       "29995    31237.0    15980.0    8500.0   20000.0    5003.0    3047.0    5000.0   \n",
       "29996     5190.0        0.0    1837.0    3526.0    8998.0     129.0       0.0   \n",
       "29997    20582.0    19357.0       0.0       0.0   22000.0    4200.0    2000.0   \n",
       "29998    11855.0    48944.0   85900.0    3409.0    1178.0    1926.0   52964.0   \n",
       "29999    32428.0    15313.0    2078.0    1800.0    1430.0    1000.0    1000.0   \n",
       "\n",
       "       PAY_AMT6  default  \n",
       "0           0.0        1  \n",
       "1        2000.0        1  \n",
       "2        5000.0        0  \n",
       "3        1000.0        0  \n",
       "4         679.0        0  \n",
       "...         ...      ...  \n",
       "29995    1000.0        0  \n",
       "29996       0.0        0  \n",
       "29997    3100.0        1  \n",
       "29998    1804.0        1  \n",
       "29999    1000.0        1  \n",
       "\n",
       "[30000 rows x 25 columns]>"
      ]
     },
     "execution_count": 10,
     "metadata": {},
     "output_type": "execute_result"
    }
   ],
   "source": [
    "# <write your code here>\n",
    "#ill use 2 ways the first is to create a new column with the new name and assign the values of the target to it then drop inplace the old column\n",
    "#  (not practical but some time useful)\n",
    "df[\"default\"]=df[\"default.payment.next.month\"]\n",
    "df.drop(columns=['default.payment.next.month'], inplace=True)\n",
    "#or the easy way using Pandas .rename method\n",
    "df.rename(columns={\"PAY_0\":\"PAY_1\"} ,inplace=True)\n",
    "df.describe"
   ]
  },
  {
   "cell_type": "markdown",
   "metadata": {},
   "source": [
    "# 2. Exploratory Data Anaysis: [10 points]"
   ]
  },
  {
   "cell_type": "markdown",
   "metadata": {},
   "source": [
    "#### A) Categorical features:\n",
    "- In this part of the project, your task is to analyse the categorical features\n",
    "- You are required to plot some charts"
   ]
  },
  {
   "cell_type": "markdown",
   "metadata": {},
   "source": [
    "##### 1) Marriage: \n",
    "- Extract the different categories of the marriage  (0, 1, 2, and 3) and their value counts (hind: use value_counts)\n",
    "- Plot a bar graph to show the distribution of the different marriage categories"
   ]
  },
  {
   "cell_type": "code",
   "execution_count": 11,
   "metadata": {
    "_kg_hide-input": true
   },
   "outputs": [
    {
     "data": {
      "text/plain": [
       "MARRIAGE\n",
       "2    15964\n",
       "1    13659\n",
       "3      323\n",
       "0       54\n",
       "Name: count, dtype: int64"
      ]
     },
     "execution_count": 11,
     "metadata": {},
     "output_type": "execute_result"
    }
   ],
   "source": [
    "# <write your code here>\n",
    "marriage_count=df[\"MARRIAGE\"].value_counts()\n",
    "marriage_count"
   ]
  },
  {
   "cell_type": "code",
   "execution_count": 12,
   "metadata": {},
   "outputs": [
    {
     "data": {
      "image/png": "[encoded data removed]",
      "text/plain": [
       "<Figure size 600x400 with 1 Axes>"
      ]
     },
     "metadata": {},
     "output_type": "display_data"
    }
   ],
   "source": [
    "# <write your code here for the plot>\n",
    "plt.figure(figsize=(6,4))\n",
    "plt.bar(marriage_count.index,marriage_count.values,color=[\"blue\",\"green\", \"yellow\",\"red\"])\n",
    "plt.xlabel(\"Marriag Category\")\n",
    "plt.ylabel(\"Count\")\n",
    "plt.title(\"Distribution of Marriage Categories\")\n",
    "plt.show()"
   ]
  },
  {
   "cell_type": "markdown",
   "metadata": {},
   "source": [
    "##### What do you think about the obtained plot?"
   ]
  },
  {
   "cell_type": "markdown",
   "metadata": {},
   "source": [
    "\\<write your answer here\\>\n",
    "\n",
    "the number of users who have 0 adn 1 marriage value is very small in compare to 2 and 3 and this is accually logical "
   ]
  },
  {
   "cell_type": "markdown",
   "metadata": {},
   "source": [
    "##### 2) Education:\n",
    "- Extract the different categories of the education  (0, 1, 2, 3, 4, 5 and 6) and their value counts (hind: use value_counts)\n",
    "- In a seperate dataframe, extract the value count from the dataset of the education\n",
    "- Name every index as follows:\n",
    "    - 0 --> University\n",
    "    - 1 --> Graduate School\n",
    "    - 2 --> High school\n",
    "    - 3 --> Unknown 1\n",
    "    - 4 --> Others\n",
    "    - 5 --> Unknown 2\n",
    "    - 6 --> Unknown 3\n",
    "- Plot a bar graph to show the distribution of the different education categories"
   ]
  },
  {
   "cell_type": "code",
   "execution_count": 13,
   "metadata": {},
   "outputs": [
    {
     "data": {
      "text/plain": [
       "EDUCATION\n",
       "2    14030\n",
       "1    10585\n",
       "3     4917\n",
       "5      280\n",
       "4      123\n",
       "6       51\n",
       "0       14\n",
       "Name: count, dtype: int64"
      ]
     },
     "execution_count": 13,
     "metadata": {},
     "output_type": "execute_result"
    }
   ],
   "source": [
    "# <write your code here>\n",
    "edu_count=df[\"EDUCATION\"].value_counts()\n",
    "edu_count"
   ]
  },
  {
   "cell_type": "code",
   "execution_count": 16,
   "metadata": {},
   "outputs": [],
   "source": [
    "# <write your code here>\n",
    "edu_labels = {\n",
    "    0:\"University\",\n",
    "    1:\"Graduate School\",\n",
    "    2:\"High School\",\n",
    "    3:\"Unknown 1\",\n",
    "    4:\"Others\",\n",
    "    5:\"Unknown 2\",\n",
    "    6:\"Unknown 3\"}\n",
    "\n",
    "edu_df = pd.DataFrame({\n",
    "    \"Education Category\":edu_count.index.map(edu_labels),\n",
    "    \"Count\":edu_count.values\n",
    "})"
   ]
  },
  {
   "cell_type": "code",
   "execution_count": 17,
   "metadata": {},
   "outputs": [
    {
     "data": {
      "image/png": "[encoded data removed]",
      "text/plain": [
       "<Figure size 640x480 with 1 Axes>"
      ]
     },
     "metadata": {},
     "output_type": "display_data"
    }
   ],
   "source": [
    "# <write your code here>\n",
    "#i ploted it using the edu_count then the edu_df as it's labeled \n",
    "'''plt.figure(figsize=(8,5))\n",
    "plt.bar(edu_count.index,edu_count.values, color=[\"red\",\"green\",\"blue\",\"orange\",\"yellow\",\"purple\",\"black\"])\n",
    "plt.xlabel(\"Education Category\")\n",
    "plt.ylabel(\"Count\")\n",
    "plt.title(\"Distribution of Education Categories\")\n",
    "plt.show()'''\n",
    "\n",
    "plt.bar(edu_df[\"Education Category\"],edu_df[\"Count\"],color=[\"red\",\"green\",\"blue\",\"orange\",\"yellow\",\"purple\",\"black\"])\n",
    "plt.xlabel(\"Education Category\")\n",
    "plt.ylabel(\"Count\")\n",
    "plt.title(\"Distribution of Education Categories\")\n",
    "plt.xticks(rotation=30)\n",
    "plt.show()"
   ]
  },
  {
   "cell_type": "markdown",
   "metadata": {},
   "source": [
    "##### What do you think about the obtained plot?"
   ]
  },
  {
   "cell_type": "markdown",
   "metadata": {},
   "source": [
    "\\<write your answer here\\>\n",
    "\n",
    "its clear in general but the \"unknown\" categories are confusing.\n",
    "but i do find it strange that the \"university\" category has the lowest count "
   ]
  },
  {
   "cell_type": "markdown",
   "metadata": {},
   "source": [
    "##### 3) Sex\n",
    "- Extract the different categories of the sex (0, and 1) and their value counts (hint: use value_counts)\n",
    "- Store the dataframe in a separate variable\n",
    "- Rename the following:\n",
    "    - 0 to Male\n",
    "    - 1 to Female\n",
    "- Plot a bar graph to show the distribution of the different sex categories"
   ]
  },
  {
   "cell_type": "code",
   "execution_count": 18,
   "metadata": {},
   "outputs": [
    {
     "data": {
      "text/plain": [
       "SEX\n",
       "2    18112\n",
       "1    11888\n",
       "Name: count, dtype: int64"
      ]
     },
     "execution_count": 18,
     "metadata": {},
     "output_type": "execute_result"
    }
   ],
   "source": [
    "# <write your code here>\n",
    "sex_count =df[\"SEX\"].value_counts()\n",
    "sex_count"
   ]
  },
  {
   "cell_type": "markdown",
   "metadata": {},
   "source": [
    "im not sure if u want to rename them male/female or 0/1 \n",
    "and it weird that its 1/2 in the dataset and not 0/1\n",
    "1-> male ->0\n",
    "2-> female -> 1"
   ]
  },
  {
   "cell_type": "code",
   "execution_count": 19,
   "metadata": {},
   "outputs": [],
   "source": [
    "# <write your code here>\n",
    "sex_labels = {1: \"Male\",2: \"Female\"}\n",
    "\n",
    "\n",
    "sex_df = pd.DataFrame({\"Sex Category\":sex_count.index.map(sex_labels),\"Count\":sex_count.values})"
   ]
  },
  {
   "cell_type": "code",
   "execution_count": 20,
   "metadata": {},
   "outputs": [
    {
     "data": {
      "image/png": "[encoded data removed]",
      "text/plain": [
       "<Figure size 600x400 with 1 Axes>"
      ]
     },
     "metadata": {},
     "output_type": "display_data"
    }
   ],
   "source": [
    "# <write your code here>\n",
    "plt.figure(figsize=(6,4))\n",
    "plt.bar(sex_df[\"Sex Category\"], sex_df[\"Count\"], color=[\"red\", \"blue\"])\n",
    "plt.xlabel(\"Sex Category\")\n",
    "plt.ylabel(\"Count\")\n",
    "plt.title(\"Distribution of Sex Category\")\n",
    "plt.xticks(rotation=30)\n",
    "plt.show()"
   ]
  },
  {
   "cell_type": "markdown",
   "metadata": {},
   "source": [
    "##### What do you think about the obtained plot?"
   ]
  },
  {
   "cell_type": "markdown",
   "metadata": {},
   "source": [
    "\\<write your answer here\\>\n",
    "\n",
    "it very clear in the graph that female count is higher than the male count."
   ]
  },
  {
   "cell_type": "markdown",
   "metadata": {},
   "source": [
    "#### B) Numerical variables:\n",
    "In this section of the project, you need to plot histograms for the different numerical features"
   ]
  },
  {
   "cell_type": "markdown",
   "metadata": {},
   "source": [
    "##### 1) Bill amount:\n",
    "- Select the six BILL features and store them in a separate dataframe\n",
    "- Draw SIX different histograms for each of the feature"
   ]
  },
  {
   "cell_type": "code",
   "execution_count": 21,
   "metadata": {
    "_kg_hide-input": true,
    "scrolled": true
   },
   "outputs": [],
   "source": [
    "# <write your code here>\n",
    "bills=[\"BILL_AMT1\",\"BILL_AMT2\",\"BILL_AMT3\",\"BILL_AMT4\",\"BILL_AMT5\",\"BILL_AMT6\"]\n",
    "bill_df=df[bills]\n"
   ]
  },
  {
   "cell_type": "code",
   "execution_count": 24,
   "metadata": {},
   "outputs": [
    {
     "data": {
      "image/png": "[encoded data removed]",
      "text/plain": [
       "<Figure size 800x500 with 1 Axes>"
      ]
     },
     "metadata": {},
     "output_type": "display_data"
    },
    {
     "data": {
      "image/png": "[encoded data removed]",
      "text/plain": [
       "<Figure size 800x500 with 1 Axes>"
      ]
     },
     "metadata": {},
     "output_type": "display_data"
    },
    {
     "data": {
      "image/png": "[encoded data removed]",
      "text/plain": [
       "<Figure size 800x500 with 1 Axes>"
      ]
     },
     "metadata": {},
     "output_type": "display_data"
    },
    {
     "data": {
      "image/png": "[encoded data removed]",
      "text/plain": [
       "<Figure size 800x500 with 1 Axes>"
      ]
     },
     "metadata": {},
     "output_type": "display_data"
    },
    {
     "data": {
      "image/png": "[encoded data removed]",
      "text/plain": [
       "<Figure size 800x500 with 1 Axes>"
      ]
     },
     "metadata": {},
     "output_type": "display_data"
    },
    {
     "data": {
      "image/png": "[encoded data removed]",
      "text/plain": [
       "<Figure size 800x500 with 1 Axes>"
      ]
     },
     "metadata": {},
     "output_type": "display_data"
    }
   ],
   "source": [
    "# <write your code here>\n",
    "plt.figure(figsize=(8,5))\n",
    "plt.hist(bill_df[\"BILL_AMT1\"],bins=10,color='blue',edgecolor='black')\n",
    "plt.title(\"Histogram of BILL_AMT1\")\n",
    "plt.xlabel(\"Amount\")\n",
    "plt.ylabel(\"Frequency\")\n",
    "plt.show()\n",
    "\n",
    "plt.figure(figsize=(8,5))\n",
    "plt.hist(bill_df[\"BILL_AMT2\"],bins=10,color='green',edgecolor='black')\n",
    "plt.title(\"Histogram of BILL_AMT2\")\n",
    "plt.xlabel(\"Amount\")\n",
    "plt.ylabel(\"Frequency\")\n",
    "plt.show()\n",
    "\n",
    "plt.figure(figsize=(8,5))\n",
    "plt.hist(bill_df[\"BILL_AMT3\"],bins=10, color='red',edgecolor='black')\n",
    "plt.title(\"Histogram of BILL_AMT3\")\n",
    "plt.xlabel(\"Amount\")\n",
    "plt.ylabel(\"Frequency\")\n",
    "plt.show()\n",
    "\n",
    "plt.figure(figsize=(8, 5))\n",
    "plt.hist(bill_df[\"BILL_AMT4\"],bins=10, color='purple',edgecolor='black')\n",
    "plt.title(\"Histogram of BILL_AMT4\")\n",
    "plt.xlabel(\"Amount\")\n",
    "plt.ylabel(\"Frequency\")\n",
    "plt.show()\n",
    "\n",
    "plt.figure(figsize=(8,5))\n",
    "plt.hist(bill_df[\"BILL_AMT5\"],bins=10, color='orange',edgecolor='black')\n",
    "plt.title(\"Histogram of BILL_AMT5\")\n",
    "plt.xlabel(\"Amount\")\n",
    "plt.ylabel(\"Frequency\")\n",
    "plt.show()\n",
    "\n",
    "plt.figure(figsize=(8,5))\n",
    "plt.hist(bill_df[\"BILL_AMT6\"],bins=10, color='yellow',edgecolor='black')\n",
    "plt.title(\"Histogram of BILL_AMT6\")\n",
    "plt.xlabel(\"Amount\")\n",
    "plt.ylabel(\"Frequency\")\n",
    "plt.show()"
   ]
  },
  {
   "cell_type": "markdown",
   "metadata": {},
   "source": [
    "##### What do you think about the obtained plot? Any transformation might be required?"
   ]
  },
  {
   "cell_type": "markdown",
   "metadata": {},
   "source": [
    "\\<write your answer here\\>\n",
    "\n",
    "most of the bill amounts shows a similar range and the freq od the higher amounts decreases significantly that means most of the bills are lower end of the scale \n",
    "it obvious that some data are not clearly visualized so normalizing and scaling the data is required"
   ]
  },
  {
   "cell_type": "markdown",
   "metadata": {},
   "source": [
    "##### 2) Previous payment\n",
    "- Select the six PAY Aount ('PAY_AMT1 --> PAY_AMT6') features and store them in a separate dataframe\n",
    "- Draw SIX different histograms for each of the feature"
   ]
  },
  {
   "cell_type": "code",
   "execution_count": 25,
   "metadata": {
    "_kg_hide-input": true
   },
   "outputs": [],
   "source": [
    "# <write your code here>\n",
    "pay_amt =[\"PAY_AMT1\",\"PAY_AMT2\",\"PAY_AMT3\",\"PAY_AMT4\",\"PAY_AMT5\",\"PAY_AMT6\"]\n",
    "pay_amt_df= df[pay_amt]"
   ]
  },
  {
   "cell_type": "code",
   "execution_count": 26,
   "metadata": {},
   "outputs": [
    {
     "data": {
      "image/png": "[encoded data removed]",
      "text/plain": [
       "<Figure size 800x500 with 1 Axes>"
      ]
     },
     "metadata": {},
     "output_type": "display_data"
    },
    {
     "data": {
      "image/png": "[encoded data removed]",
      "text/plain": [
       "<Figure size 800x500 with 1 Axes>"
      ]
     },
     "metadata": {},
     "output_type": "display_data"
    },
    {
     "data": {
      "image/png": "[encoded data removed]",
      "text/plain": [
       "<Figure size 800x500 with 1 Axes>"
      ]
     },
     "metadata": {},
     "output_type": "display_data"
    },
    {
     "data": {
      "image/png": "[encoded data removed]",
      "text/plain": [
       "<Figure size 800x500 with 1 Axes>"
      ]
     },
     "metadata": {},
     "output_type": "display_data"
    },
    {
     "data": {
      "image/png": "[encoded data removed]",
      "text/plain": [
       "<Figure size 800x500 with 1 Axes>"
      ]
     },
     "metadata": {},
     "output_type": "display_data"
    },
    {
     "data": {
      "image/png": "[encoded data removed]",
      "text/plain": [
       "<Figure size 800x500 with 1 Axes>"
      ]
     },
     "metadata": {},
     "output_type": "display_data"
    }
   ],
   "source": [
    "# <write your code here>\n",
    "plt.figure(figsize=(8,5))\n",
    "plt.hist(pay_amt_df[\"PAY_AMT1\"],bins=5,color='blue',edgecolor='black')\n",
    "plt.xlabel(\"Amount\")\n",
    "plt.ylabel(\"Frequency\")\n",
    "plt.show()\n",
    "\n",
    "plt.figure(figsize=(8,5))\n",
    "plt.hist(pay_amt_df[\"PAY_AMT2\"],bins=5,color='green',edgecolor='black')\n",
    "plt.title(\"Histogram of PAY_AMT2\")\n",
    "plt.xlabel(\"Amount\")\n",
    "plt.ylabel(\"Frequency\")\n",
    "plt.show()\n",
    "\n",
    "plt.figure(figsize=(8,5))\n",
    "plt.hist(pay_amt_df[\"PAY_AMT3\"],bins=5,color='red',edgecolor='black')\n",
    "plt.title(\"Histogram of PAY_AMT3\")\n",
    "plt.xlabel(\"Amount\")\n",
    "plt.ylabel(\"Frequency\")\n",
    "plt.show()\n",
    "\n",
    "plt.figure(figsize=(8, 5))\n",
    "plt.hist(pay_amt_df[\"PAY_AMT4\"], bins=5, color='purple', edgecolor='black')\n",
    "plt.title(\"Histogram of PAY_AMT4\")\n",
    "plt.xlabel(\"Amount\")\n",
    "plt.ylabel(\"Frequency\")\n",
    "plt.show()\n",
    "\n",
    "plt.figure(figsize=(8, 5))\n",
    "plt.hist(pay_amt_df[\"PAY_AMT5\"], bins=5, color='orange', edgecolor='black')\n",
    "plt.title(\"Histogram of PAY_AMT5\")\n",
    "plt.xlabel(\"Amount\")\n",
    "plt.ylabel(\"Frequency\")\n",
    "plt.show()\n",
    "\n",
    "plt.figure(figsize=(8, 5))\n",
    "plt.hist(pay_amt_df[\"PAY_AMT6\"], bins=5, color='yellow', edgecolor='black')\n",
    "plt.title(\"Histogram of PAY_AMT6\")\n",
    "plt.xlabel(\"Amount\")\n",
    "plt.ylabel(\"Frequency\")\n",
    "plt.show()"
   ]
  },
  {
   "cell_type": "markdown",
   "metadata": {},
   "source": [
    "##### What do you think about the obtained plot? Any transformation might be required?"
   ]
  },
  {
   "cell_type": "markdown",
   "metadata": {},
   "source": [
    "\\<write your answer here\\>\n",
    "also here we may need to normalize the data using logarithmic orsquare root transformation to make patterns in the lower range more visible"
   ]
  },
  {
   "cell_type": "markdown",
   "metadata": {},
   "source": [
    "##### 3) Previous payment status:\n",
    "- Select the six previous PAY status Aount ('PAY1 --> PAY6') features and store them in a separate dataframe\n",
    "- Draw SIX different histograms for each of the feature"
   ]
  },
  {
   "cell_type": "code",
   "execution_count": 27,
   "metadata": {
    "_kg_hide-input": true
   },
   "outputs": [],
   "source": [
    "# <write your code here>\n",
    "pay = [\"PAY_1\",\"PAY_2\",\"PAY_3\",\"PAY_4\",\"PAY_5\",\"PAY_6\"]\n",
    "pay_df = df[pay]\n"
   ]
  },
  {
   "cell_type": "code",
   "execution_count": 28,
   "metadata": {
    "_kg_hide-input": true
   },
   "outputs": [
    {
     "data": {
      "image/png": "[encoded data removed]",
      "text/plain": [
       "<Figure size 800x500 with 1 Axes>"
      ]
     },
     "metadata": {},
     "output_type": "display_data"
    },
    {
     "data": {
      "image/png": "[encoded data removed]",
      "text/plain": [
       "<Figure size 800x500 with 1 Axes>"
      ]
     },
     "metadata": {},
     "output_type": "display_data"
    },
    {
     "data": {
      "image/png": "[encoded data removed]",
      "text/plain": [
       "<Figure size 800x500 with 1 Axes>"
      ]
     },
     "metadata": {},
     "output_type": "display_data"
    },
    {
     "data": {
      "image/png": "[encoded data removed]",
      "text/plain": [
       "<Figure size 800x500 with 1 Axes>"
      ]
     },
     "metadata": {},
     "output_type": "display_data"
    },
    {
     "data": {
      "image/png": "[encoded data removed]",
      "text/plain": [
       "<Figure size 800x500 with 1 Axes>"
      ]
     },
     "metadata": {},
     "output_type": "display_data"
    },
    {
     "data": {
      "image/png": "[encoded data removed]",
      "text/plain": [
       "<Figure size 800x500 with 1 Axes>"
      ]
     },
     "metadata": {},
     "output_type": "display_data"
    }
   ],
   "source": [
    "# <write your code here>\n",
    "plt.figure(figsize=(8,5))\n",
    "plt.hist(pay_df[\"PAY_1\"],bins=5,color='blue',edgecolor='black')\n",
    "plt.title(\"Histogram of PAY_1\")\n",
    "plt.xlabel(\"Amount\")\n",
    "plt.ylabel(\"Frequency\")\n",
    "plt.show()\n",
    "\n",
    "plt.figure(figsize=(8,5))\n",
    "plt.hist(pay_df[\"PAY_2\"], bins=5,color='green',edgecolor='black')\n",
    "plt.title(\"Histogram of PAY_2\")\n",
    "plt.xlabel(\"Amount\")\n",
    "plt.ylabel(\"Frequency\")\n",
    "plt.show()\n",
    "\n",
    "plt.figure(figsize=(8,5))\n",
    "plt.hist(pay_df[\"PAY_3\"], bins=5,color='red',edgecolor='black')\n",
    "plt.title(\"Histogram of PAY_3\")\n",
    "plt.xlabel(\"Amount\")\n",
    "plt.ylabel(\"Frequency\")\n",
    "plt.show()\n",
    "\n",
    "plt.figure(figsize=(8,5))\n",
    "plt.hist(pay_df[\"PAY_4\"], bins=5,color='purple',edgecolor='black')\n",
    "plt.title(\"Histogram of PAY_4\")\n",
    "plt.xlabel(\"Amount\")\n",
    "plt.ylabel(\"Frequency\")\n",
    "plt.show()\n",
    "\n",
    "plt.figure(figsize=(8,5))\n",
    "plt.hist(pay_df[\"PAY_5\"], bins=5,color='orange',edgecolor='black')\n",
    "plt.title(\"Histogram of PAY_5\")\n",
    "plt.xlabel(\"Amount\")\n",
    "plt.ylabel(\"Frequency\")\n",
    "plt.show()\n",
    "\n",
    "plt.figure(figsize=(8,5))\n",
    "plt.hist(pay_df[\"PAY_6\"], bins=5,color='yellow',edgecolor='black')\n",
    "plt.title(\"Histogram of PAY_6\")\n",
    "plt.xlabel(\"Amount\")\n",
    "plt.ylabel(\"Frequency\")\n",
    "plt.show()"
   ]
  },
  {
   "cell_type": "markdown",
   "metadata": {},
   "source": [
    "##### What do you think about the obtained plot? Any transformation might be required?"
   ]
  },
  {
   "cell_type": "markdown",
   "metadata": {},
   "source": [
    "\\<write your answer here\\>\n",
    "\n",
    "as we have categorical (-1,0,1,2) transormation is not needed but maybe standarlizing (min-max or z_score) is required"
   ]
  },
  {
   "cell_type": "markdown",
   "metadata": {},
   "source": [
    "##### 4) Age:\n",
    "- Plot a histogram of the age feature ('AGE')"
   ]
  },
  {
   "cell_type": "code",
   "execution_count": 29,
   "metadata": {},
   "outputs": [
    {
     "data": {
      "image/png": "[encoded data removed]",
      "text/plain": [
       "<Figure size 800x600 with 1 Axes>"
      ]
     },
     "metadata": {},
     "output_type": "display_data"
    }
   ],
   "source": [
    "plt.figure(figsize=(8,6))\n",
    "plt.hist(df[\"AGE\"], bins=10,color='red',edgecolor='black')\n",
    "plt.title('Distribution of Age')\n",
    "plt.xlabel(\"Age\")\n",
    "plt.ylabel(\"Frequency\")\n",
    "plt.show()"
   ]
  },
  {
   "cell_type": "markdown",
   "metadata": {},
   "source": [
    "##### What do you think about the obtained plot? Any transformation might be required?"
   ]
  },
  {
   "cell_type": "markdown",
   "metadata": {},
   "source": [
    "\\<write your answer here\\>\n",
    "\n",
    "this is a good distribution behaviour and no transformation is needed but we may concider standardizaton or normalization to scal the data"
   ]
  },
  {
   "cell_type": "markdown",
   "metadata": {},
   "source": [
    "##### 5) Amount given in credit:"
   ]
  },
  {
   "cell_type": "markdown",
   "metadata": {},
   "source": [
    "Plot a histogram of the age feature ('LIMIT_BAL')"
   ]
  },
  {
   "cell_type": "code",
   "execution_count": 30,
   "metadata": {},
   "outputs": [
    {
     "data": {
      "image/png": "[encoded data removed]",
      "text/plain": [
       "<Figure size 800x600 with 1 Axes>"
      ]
     },
     "metadata": {},
     "output_type": "display_data"
    }
   ],
   "source": [
    "# <write your code here>\n",
    "plt.figure(figsize=(8,6))\n",
    "plt.hist(df[\"LIMIT_BAL\"],bins=10, color='red',edgecolor='black')\n",
    "plt.title('Distribution of LIMIT BAL')\n",
    "plt.xlabel(\"LIMIT_BAL\")\n",
    "plt.ylabel(\"Frequency\")\n",
    "plt.show()"
   ]
  },
  {
   "cell_type": "markdown",
   "metadata": {},
   "source": [
    "##### What do you think about the obtained plot? Any transformation might be required?"
   ]
  },
  {
   "cell_type": "markdown",
   "metadata": {},
   "source": [
    "\\<write your answer here\\>\n"
   ]
  },
  {
   "cell_type": "markdown",
   "metadata": {},
   "source": [
    "##### 6) Target column (Default):\n",
    "- Extract the different categories of the default column and their value counts (hint: use value_counts)\n",
    "- Store the dataframe in a separate variable\n",
    "- Create a bar plot"
   ]
  },
  {
   "cell_type": "code",
   "execution_count": 31,
   "metadata": {},
   "outputs": [],
   "source": [
    "# <write your code here>\n",
    "default_count = df[\"default\"].value_counts()\n",
    "default_count\n",
    "default_df = pd.DataFrame({\"Default Category\":default_count.index.tolist(),\"Count\":default_count.values })"
   ]
  },
  {
   "cell_type": "code",
   "execution_count": 32,
   "metadata": {},
   "outputs": [
    {
     "data": {
      "image/png": "[encoded data removed]",
      "text/plain": [
       "<Figure size 600x400 with 1 Axes>"
      ]
     },
     "metadata": {},
     "output_type": "display_data"
    }
   ],
   "source": [
    "# <write your code here>\n",
    "plt.figure(figsize=(6,4))\n",
    "plt.bar(default_df[\"Default Category\"],default_df[\"Count\"],color=[\"red\", \"blue\"])\n",
    "plt.xlabel(\"Default Category\")\n",
    "plt.ylabel(\"Count\")\n",
    "plt.title(\"Distributipn of the Defualt Category\")\n",
    "plt.show()"
   ]
  },
  {
   "cell_type": "markdown",
   "metadata": {},
   "source": [
    "##### What do you think about the obtained plot? Any transformation might be required?"
   ]
  },
  {
   "cell_type": "markdown",
   "metadata": {},
   "source": [
    "\\<write your answer here\\>\n",
    "no transformation or normalization is required gere"
   ]
  },
  {
   "cell_type": "markdown",
   "metadata": {},
   "source": [
    "#### Correlation:\n",
    "- Create a correlation plot for the different features in the original dataframe (hint: use sns.heatmap for the plot)"
   ]
  },
  {
   "cell_type": "code",
   "execution_count": 33,
   "metadata": {},
   "outputs": [
    {
     "data": {
      "image/png": "[encoded data removed]",
      "text/plain": [
       "<Figure size 1200x800 with 2 Axes>"
      ]
     },
     "metadata": {},
     "output_type": "display_data"
    }
   ],
   "source": [
    "# <write your code here>\n",
    "corr_matrix = df.corr()\n",
    "plt.figure(figsize=(12,8))\n",
    "sns.heatmap(corr_matrix,cmap=\"coolwarm\", linewidths=0.5)\n",
    "plt.title(\"Correlation Heatmap of Features\")\n",
    "plt.show()"
   ]
  },
  {
   "cell_type": "markdown",
   "metadata": {},
   "source": [
    "##### What do you think about the obtained plot? Any transformation might be required?"
   ]
  },
  {
   "cell_type": "markdown",
   "metadata": {},
   "source": [
    "\\<write your answer here\\>\n",
    "\n",
    "we have strong corr btwn BILL_AMT1 and BILL_AMT6, also btwn PAY_0 and PAY_6 \n",
    "we have wee corr btwn the default column and most of the other features\n",
    "\n",
    "-LIMIT_BALL, BILL_AMT and AGE  have large num range so we have to normalize them (minmax scaler or standard scaler)\n",
    "\n",
    "-and we may concider PCA on the BILL_ATMs (1 to 6) adn PAYs (0 to 6) as they have strong corr\n"
   ]
  },
  {
   "cell_type": "markdown",
   "metadata": {},
   "source": [
    "# 3. Data cleaning and further exploration: [3 points]"
   ]
  },
  {
   "cell_type": "markdown",
   "metadata": {},
   "source": [
    "#### As you might have seen in the previous section of the project, there are some undocumented elements in some features, which means we don't really know what they mean\n",
    "\n",
    "Therefore, we will start by cleaning them up!"
   ]
  },
  {
   "cell_type": "markdown",
   "metadata": {},
   "source": [
    "##### 1) Replace the values 0, 5, and 6 by the value 4 (resembling the 'Other' category)"
   ]
  },
  {
   "cell_type": "code",
   "execution_count": 34,
   "metadata": {},
   "outputs": [
    {
     "data": {
      "text/plain": [
       "EDUCATION\n",
       "2    14030\n",
       "1    10585\n",
       "4     5371\n",
       "0       14\n",
       "Name: count, dtype: int64"
      ]
     },
     "execution_count": 34,
     "metadata": {},
     "output_type": "execute_result"
    }
   ],
   "source": [
    "# <write your code here>\n",
    "df['EDUCATION']=df['EDUCATION'].replace([3,5,6],4)\n",
    "df['EDUCATION'].value_counts()"
   ]
  },
  {
   "cell_type": "markdown",
   "metadata": {},
   "source": [
    "##### 2) Replace the value 0 in MARRIAGE by 3 (resembling the 'Other' category)"
   ]
  },
  {
   "cell_type": "code",
   "execution_count": 35,
   "metadata": {},
   "outputs": [
    {
     "data": {
      "text/plain": [
       "MARRIAGE\n",
       "2    15964\n",
       "1    13659\n",
       "3      377\n",
       "Name: count, dtype: int64"
      ]
     },
     "execution_count": 35,
     "metadata": {},
     "output_type": "execute_result"
    }
   ],
   "source": [
    "# <write your code here>\n",
    "df[\"MARRIAGE\"]=df[\"MARRIAGE\"].replace(0,3)\n",
    "df[\"MARRIAGE\"].value_counts()"
   ]
  },
  {
   "cell_type": "markdown",
   "metadata": {},
   "source": [
    "##### 3) Replace -1 and -2 by 0 in all the PAY_1 --> PAY_6\n",
    "\"-1\" is paid duly, but there are \"-2\" and \"0\" labels in payment status variable. So let's combine them and put everything as \"0\"\n"
   ]
  },
  {
   "cell_type": "code",
   "execution_count": 36,
   "metadata": {},
   "outputs": [
    {
     "data": {
      "text/plain": [
       "PAY_1\n",
       "0    23182\n",
       "1     3688\n",
       "2     2667\n",
       "3      322\n",
       "4       76\n",
       "5       26\n",
       "8       19\n",
       "6       11\n",
       "7        9\n",
       "Name: count, dtype: int64"
      ]
     },
     "execution_count": 36,
     "metadata": {},
     "output_type": "execute_result"
    }
   ],
   "source": [
    "# <write your code here>\n",
    "to_replace_columns = [\"PAY_1\", \"PAY_2\", \"PAY_3\",\"PAY_4\",\"PAY_5\", \"PAY_6\"]\n",
    "df[to_replace_columns] = df[to_replace_columns].replace([-1,-2], 0)\n",
    "df[\"PAY_1\"].value_counts()"
   ]
  },
  {
   "cell_type": "markdown",
   "metadata": {},
   "source": [
    "# 4) Baseline model: [4 points]"
   ]
  },
  {
   "cell_type": "markdown",
   "metadata": {},
   "source": [
    "##### Create and evaluate a baseline model using KFold cross validation\n",
    "\n",
    "1) Split the data into 70\\% training and 30\\% testing. Select the default as label\n",
    "\n",
    "2) Create a Logistic Regression model with random_state=0. This model should be created on the resulting dataframe from the preprocessing without any fine tuning\n",
    "\n",
    "3) Apply K-fold cross validation with cv=5 and train the model\n",
    "\n",
    "4) evaluate the model by computing:\n",
    "   - The accuracy\n",
    "   - The confusion matrix"
   ]
  },
  {
   "cell_type": "code",
   "execution_count": 37,
   "metadata": {},
   "outputs": [],
   "source": [
    "# <write your code here>\n",
    "X=df.drop(columns=[\"default\"])\n",
    "y=df[\"default\"]\n",
    "X_train,X_test, y_train,y_test = train_test_split(X, y,test_size=0.3,random_state=42)"
   ]
  },
  {
   "cell_type": "code",
   "execution_count": 38,
   "metadata": {},
   "outputs": [
    {
     "data": {
      "text/html": [
       "<style>#sk-container-id-1 {\n",
       "  /* Definition of color scheme common for light and dark mode */\n",
       "  --sklearn-color-text: #000;\n",
       "  --sklearn-color-text-muted: #666;\n",
       "  --sklearn-color-line: gray;\n",
       "  /* Definition of color scheme for unfitted estimators */\n",
       "  --sklearn-color-unfitted-level-0: #fff5e6;\n",
       "  --sklearn-color-unfitted-level-1: #f6e4d2;\n",
       "  --sklearn-color-unfitted-level-2: #ffe0b3;\n",
       "  --sklearn-color-unfitted-level-3: chocolate;\n",
       "  /* Definition of color scheme for fitted estimators */\n",
       "  --sklearn-color-fitted-level-0: #f0f8ff;\n",
       "  --sklearn-color-fitted-level-1: #d4ebff;\n",
       "  --sklearn-color-fitted-level-2: #b3dbfd;\n",
       "  --sklearn-color-fitted-level-3: cornflowerblue;\n",
       "\n",
       "  /* Specific color for light theme */\n",
       "  --sklearn-color-text-on-default-background: var(--sg-text-color, var(--theme-code-foreground, var(--jp-content-font-color1, black)));\n",
       "  --sklearn-color-background: var(--sg-background-color, var(--theme-background, var(--jp-layout-color0, white)));\n",
       "  --sklearn-color-border-box: var(--sg-text-color, var(--theme-code-foreground, var(--jp-content-font-color1, black)));\n",
       "  --sklearn-color-icon: #696969;\n",
       "\n",
       "  @media (prefers-color-scheme: dark) {\n",
       "    /* Redefinition of color scheme for dark theme */\n",
       "    --sklearn-color-text-on-default-background: var(--sg-text-color, var(--theme-code-foreground, var(--jp-content-font-color1, white)));\n",
       "    --sklearn-color-background: var(--sg-background-color, var(--theme-background, var(--jp-layout-color0, #111)));\n",
       "    --sklearn-color-border-box: var(--sg-text-color, var(--theme-code-foreground, var(--jp-content-font-color1, white)));\n",
       "    --sklearn-color-icon: #878787;\n",
       "  }\n",
       "}\n",
       "\n",
       "#sk-container-id-1 {\n",
       "  color: var(--sklearn-color-text);\n",
       "}\n",
       "\n",
       "#sk-container-id-1 pre {\n",
       "  padding: 0;\n",
       "}\n",
       "\n",
       "#sk-container-id-1 input.sk-hidden--visually {\n",
       "  border: 0;\n",
       "  clip: rect(1px 1px 1px 1px);\n",
       "  clip: rect(1px, 1px, 1px, 1px);\n",
       "  height: 1px;\n",
       "  margin: -1px;\n",
       "  overflow: hidden;\n",
       "  padding: 0;\n",
       "  position: absolute;\n",
       "  width: 1px;\n",
       "}\n",
       "\n",
       "#sk-container-id-1 div.sk-dashed-wrapped {\n",
       "  border: 1px dashed var(--sklearn-color-line);\n",
       "  margin: 0 0.4em 0.5em 0.4em;\n",
       "  box-sizing: border-box;\n",
       "  padding-bottom: 0.4em;\n",
       "  background-color: var(--sklearn-color-background);\n",
       "}\n",
       "\n",
       "#sk-container-id-1 div.sk-container {\n",
       "  /* jupyter's `normalize.less` sets `[hidden] { display: none; }`\n",
       "     but bootstrap.min.css set `[hidden] { display: none !important; }`\n",
       "     so we also need the `!important` here to be able to override the\n",
       "     default hidden behavior on the sphinx rendered scikit-learn.org.\n",
       "     See: https://github.com/scikit-learn/scikit-learn/issues/21755 */\n",
       "  display: inline-block !important;\n",
       "  position: relative;\n",
       "}\n",
       "\n",
       "#sk-container-id-1 div.sk-text-repr-fallback {\n",
       "  display: none;\n",
       "}\n",
       "\n",
       "div.sk-parallel-item,\n",
       "div.sk-serial,\n",
       "div.sk-item {\n",
       "  /* draw centered vertical line to link estimators */\n",
       "  background-image: linear-gradient(var(--sklearn-color-text-on-default-background), var(--sklearn-color-text-on-default-background));\n",
       "  background-size: 2px 100%;\n",
       "  background-repeat: no-repeat;\n",
       "  background-position: center center;\n",
       "}\n",
       "\n",
       "/* Parallel-specific style estimator block */\n",
       "\n",
       "#sk-container-id-1 div.sk-parallel-item::after {\n",
       "  content: \"\";\n",
       "  width: 100%;\n",
       "  border-bottom: 2px solid var(--sklearn-color-text-on-default-background);\n",
       "  flex-grow: 1;\n",
       "}\n",
       "\n",
       "#sk-container-id-1 div.sk-parallel {\n",
       "  display: flex;\n",
       "  align-items: stretch;\n",
       "  justify-content: center;\n",
       "  background-color: var(--sklearn-color-background);\n",
       "  position: relative;\n",
       "}\n",
       "\n",
       "#sk-container-id-1 div.sk-parallel-item {\n",
       "  display: flex;\n",
       "  flex-direction: column;\n",
       "}\n",
       "\n",
       "#sk-container-id-1 div.sk-parallel-item:first-child::after {\n",
       "  align-self: flex-end;\n",
       "  width: 50%;\n",
       "}\n",
       "\n",
       "#sk-container-id-1 div.sk-parallel-item:last-child::after {\n",
       "  align-self: flex-start;\n",
       "  width: 50%;\n",
       "}\n",
       "\n",
       "#sk-container-id-1 div.sk-parallel-item:only-child::after {\n",
       "  width: 0;\n",
       "}\n",
       "\n",
       "/* Serial-specific style estimator block */\n",
       "\n",
       "#sk-container-id-1 div.sk-serial {\n",
       "  display: flex;\n",
       "  flex-direction: column;\n",
       "  align-items: center;\n",
       "  background-color: var(--sklearn-color-background);\n",
       "  padding-right: 1em;\n",
       "  padding-left: 1em;\n",
       "}\n",
       "\n",
       "\n",
       "/* Toggleable style: style used for estimator/Pipeline/ColumnTransformer box that is\n",
       "clickable and can be expanded/collapsed.\n",
       "- Pipeline and ColumnTransformer use this feature and define the default style\n",
       "- Estimators will overwrite some part of the style using the `sk-estimator` class\n",
       "*/\n",
       "\n",
       "/* Pipeline and ColumnTransformer style (default) */\n",
       "\n",
       "#sk-container-id-1 div.sk-toggleable {\n",
       "  /* Default theme specific background. It is overwritten whether we have a\n",
       "  specific estimator or a Pipeline/ColumnTransformer */\n",
       "  background-color: var(--sklearn-color-background);\n",
       "}\n",
       "\n",
       "/* Toggleable label */\n",
       "#sk-container-id-1 label.sk-toggleable__label {\n",
       "  cursor: pointer;\n",
       "  display: flex;\n",
       "  width: 100%;\n",
       "  margin-bottom: 0;\n",
       "  padding: 0.5em;\n",
       "  box-sizing: border-box;\n",
       "  text-align: center;\n",
       "  align-items: start;\n",
       "  justify-content: space-between;\n",
       "  gap: 0.5em;\n",
       "}\n",
       "\n",
       "#sk-container-id-1 label.sk-toggleable__label .caption {\n",
       "  font-size: 0.6rem;\n",
       "  font-weight: lighter;\n",
       "  color: var(--sklearn-color-text-muted);\n",
       "}\n",
       "\n",
       "#sk-container-id-1 label.sk-toggleable__label-arrow:before {\n",
       "  /* Arrow on the left of the label */\n",
       "  content: \"▸\";\n",
       "  float: left;\n",
       "  margin-right: 0.25em;\n",
       "  color: var(--sklearn-color-icon);\n",
       "}\n",
       "\n",
       "#sk-container-id-1 label.sk-toggleable__label-arrow:hover:before {\n",
       "  color: var(--sklearn-color-text);\n",
       "}\n",
       "\n",
       "/* Toggleable content - dropdown */\n",
       "\n",
       "#sk-container-id-1 div.sk-toggleable__content {\n",
       "  max-height: 0;\n",
       "  max-width: 0;\n",
       "  overflow: hidden;\n",
       "  text-align: left;\n",
       "  /* unfitted */\n",
       "  background-color: var(--sklearn-color-unfitted-level-0);\n",
       "}\n",
       "\n",
       "#sk-container-id-1 div.sk-toggleable__content.fitted {\n",
       "  /* fitted */\n",
       "  background-color: var(--sklearn-color-fitted-level-0);\n",
       "}\n",
       "\n",
       "#sk-container-id-1 div.sk-toggleable__content pre {\n",
       "  margin: 0.2em;\n",
       "  border-radius: 0.25em;\n",
       "  color: var(--sklearn-color-text);\n",
       "  /* unfitted */\n",
       "  background-color: var(--sklearn-color-unfitted-level-0);\n",
       "}\n",
       "\n",
       "#sk-container-id-1 div.sk-toggleable__content.fitted pre {\n",
       "  /* unfitted */\n",
       "  background-color: var(--sklearn-color-fitted-level-0);\n",
       "}\n",
       "\n",
       "#sk-container-id-1 input.sk-toggleable__control:checked~div.sk-toggleable__content {\n",
       "  /* Expand drop-down */\n",
       "  max-height: 200px;\n",
       "  max-width: 100%;\n",
       "  overflow: auto;\n",
       "}\n",
       "\n",
       "#sk-container-id-1 input.sk-toggleable__control:checked~label.sk-toggleable__label-arrow:before {\n",
       "  content: \"▾\";\n",
       "}\n",
       "\n",
       "/* Pipeline/ColumnTransformer-specific style */\n",
       "\n",
       "#sk-container-id-1 div.sk-label input.sk-toggleable__control:checked~label.sk-toggleable__label {\n",
       "  color: var(--sklearn-color-text);\n",
       "  background-color: var(--sklearn-color-unfitted-level-2);\n",
       "}\n",
       "\n",
       "#sk-container-id-1 div.sk-label.fitted input.sk-toggleable__control:checked~label.sk-toggleable__label {\n",
       "  background-color: var(--sklearn-color-fitted-level-2);\n",
       "}\n",
       "\n",
       "/* Estimator-specific style */\n",
       "\n",
       "/* Colorize estimator box */\n",
       "#sk-container-id-1 div.sk-estimator input.sk-toggleable__control:checked~label.sk-toggleable__label {\n",
       "  /* unfitted */\n",
       "  background-color: var(--sklearn-color-unfitted-level-2);\n",
       "}\n",
       "\n",
       "#sk-container-id-1 div.sk-estimator.fitted input.sk-toggleable__control:checked~label.sk-toggleable__label {\n",
       "  /* fitted */\n",
       "  background-color: var(--sklearn-color-fitted-level-2);\n",
       "}\n",
       "\n",
       "#sk-container-id-1 div.sk-label label.sk-toggleable__label,\n",
       "#sk-container-id-1 div.sk-label label {\n",
       "  /* The background is the default theme color */\n",
       "  color: var(--sklearn-color-text-on-default-background);\n",
       "}\n",
       "\n",
       "/* On hover, darken the color of the background */\n",
       "#sk-container-id-1 div.sk-label:hover label.sk-toggleable__label {\n",
       "  color: var(--sklearn-color-text);\n",
       "  background-color: var(--sklearn-color-unfitted-level-2);\n",
       "}\n",
       "\n",
       "/* Label box, darken color on hover, fitted */\n",
       "#sk-container-id-1 div.sk-label.fitted:hover label.sk-toggleable__label.fitted {\n",
       "  color: var(--sklearn-color-text);\n",
       "  background-color: var(--sklearn-color-fitted-level-2);\n",
       "}\n",
       "\n",
       "/* Estimator label */\n",
       "\n",
       "#sk-container-id-1 div.sk-label label {\n",
       "  font-family: monospace;\n",
       "  font-weight: bold;\n",
       "  display: inline-block;\n",
       "  line-height: 1.2em;\n",
       "}\n",
       "\n",
       "#sk-container-id-1 div.sk-label-container {\n",
       "  text-align: center;\n",
       "}\n",
       "\n",
       "/* Estimator-specific */\n",
       "#sk-container-id-1 div.sk-estimator {\n",
       "  font-family: monospace;\n",
       "  border: 1px dotted var(--sklearn-color-border-box);\n",
       "  border-radius: 0.25em;\n",
       "  box-sizing: border-box;\n",
       "  margin-bottom: 0.5em;\n",
       "  /* unfitted */\n",
       "  background-color: var(--sklearn-color-unfitted-level-0);\n",
       "}\n",
       "\n",
       "#sk-container-id-1 div.sk-estimator.fitted {\n",
       "  /* fitted */\n",
       "  background-color: var(--sklearn-color-fitted-level-0);\n",
       "}\n",
       "\n",
       "/* on hover */\n",
       "#sk-container-id-1 div.sk-estimator:hover {\n",
       "  /* unfitted */\n",
       "  background-color: var(--sklearn-color-unfitted-level-2);\n",
       "}\n",
       "\n",
       "#sk-container-id-1 div.sk-estimator.fitted:hover {\n",
       "  /* fitted */\n",
       "  background-color: var(--sklearn-color-fitted-level-2);\n",
       "}\n",
       "\n",
       "/* Specification for estimator info (e.g. \"i\" and \"?\") */\n",
       "\n",
       "/* Common style for \"i\" and \"?\" */\n",
       "\n",
       ".sk-estimator-doc-link,\n",
       "a:link.sk-estimator-doc-link,\n",
       "a:visited.sk-estimator-doc-link {\n",
       "  float: right;\n",
       "  font-size: smaller;\n",
       "  line-height: 1em;\n",
       "  font-family: monospace;\n",
       "  background-color: var(--sklearn-color-background);\n",
       "  border-radius: 1em;\n",
       "  height: 1em;\n",
       "  width: 1em;\n",
       "  text-decoration: none !important;\n",
       "  margin-left: 0.5em;\n",
       "  text-align: center;\n",
       "  /* unfitted */\n",
       "  border: var(--sklearn-color-unfitted-level-1) 1pt solid;\n",
       "  color: var(--sklearn-color-unfitted-level-1);\n",
       "}\n",
       "\n",
       ".sk-estimator-doc-link.fitted,\n",
       "a:link.sk-estimator-doc-link.fitted,\n",
       "a:visited.sk-estimator-doc-link.fitted {\n",
       "  /* fitted */\n",
       "  border: var(--sklearn-color-fitted-level-1) 1pt solid;\n",
       "  color: var(--sklearn-color-fitted-level-1);\n",
       "}\n",
       "\n",
       "/* On hover */\n",
       "div.sk-estimator:hover .sk-estimator-doc-link:hover,\n",
       ".sk-estimator-doc-link:hover,\n",
       "div.sk-label-container:hover .sk-estimator-doc-link:hover,\n",
       ".sk-estimator-doc-link:hover {\n",
       "  /* unfitted */\n",
       "  background-color: var(--sklearn-color-unfitted-level-3);\n",
       "  color: var(--sklearn-color-background);\n",
       "  text-decoration: none;\n",
       "}\n",
       "\n",
       "div.sk-estimator.fitted:hover .sk-estimator-doc-link.fitted:hover,\n",
       ".sk-estimator-doc-link.fitted:hover,\n",
       "div.sk-label-container:hover .sk-estimator-doc-link.fitted:hover,\n",
       ".sk-estimator-doc-link.fitted:hover {\n",
       "  /* fitted */\n",
       "  background-color: var(--sklearn-color-fitted-level-3);\n",
       "  color: var(--sklearn-color-background);\n",
       "  text-decoration: none;\n",
       "}\n",
       "\n",
       "/* Span, style for the box shown on hovering the info icon */\n",
       ".sk-estimator-doc-link span {\n",
       "  display: none;\n",
       "  z-index: 9999;\n",
       "  position: relative;\n",
       "  font-weight: normal;\n",
       "  right: .2ex;\n",
       "  padding: .5ex;\n",
       "  margin: .5ex;\n",
       "  width: min-content;\n",
       "  min-width: 20ex;\n",
       "  max-width: 50ex;\n",
       "  color: var(--sklearn-color-text);\n",
       "  box-shadow: 2pt 2pt 4pt #999;\n",
       "  /* unfitted */\n",
       "  background: var(--sklearn-color-unfitted-level-0);\n",
       "  border: .5pt solid var(--sklearn-color-unfitted-level-3);\n",
       "}\n",
       "\n",
       ".sk-estimator-doc-link.fitted span {\n",
       "  /* fitted */\n",
       "  background: var(--sklearn-color-fitted-level-0);\n",
       "  border: var(--sklearn-color-fitted-level-3);\n",
       "}\n",
       "\n",
       ".sk-estimator-doc-link:hover span {\n",
       "  display: block;\n",
       "}\n",
       "\n",
       "/* \"?\"-specific style due to the `<a>` HTML tag */\n",
       "\n",
       "#sk-container-id-1 a.estimator_doc_link {\n",
       "  float: right;\n",
       "  font-size: 1rem;\n",
       "  line-height: 1em;\n",
       "  font-family: monospace;\n",
       "  background-color: var(--sklearn-color-background);\n",
       "  border-radius: 1rem;\n",
       "  height: 1rem;\n",
       "  width: 1rem;\n",
       "  text-decoration: none;\n",
       "  /* unfitted */\n",
       "  color: var(--sklearn-color-unfitted-level-1);\n",
       "  border: var(--sklearn-color-unfitted-level-1) 1pt solid;\n",
       "}\n",
       "\n",
       "#sk-container-id-1 a.estimator_doc_link.fitted {\n",
       "  /* fitted */\n",
       "  border: var(--sklearn-color-fitted-level-1) 1pt solid;\n",
       "  color: var(--sklearn-color-fitted-level-1);\n",
       "}\n",
       "\n",
       "/* On hover */\n",
       "#sk-container-id-1 a.estimator_doc_link:hover {\n",
       "  /* unfitted */\n",
       "  background-color: var(--sklearn-color-unfitted-level-3);\n",
       "  color: var(--sklearn-color-background);\n",
       "  text-decoration: none;\n",
       "}\n",
       "\n",
       "#sk-container-id-1 a.estimator_doc_link.fitted:hover {\n",
       "  /* fitted */\n",
       "  background-color: var(--sklearn-color-fitted-level-3);\n",
       "}\n",
       "</style><div id=\"sk-container-id-1\" class=\"sk-top-container\"><div class=\"sk-text-repr-fallback\"><pre>LogisticRegression(max_iter=500, random_state=0)</pre><b>In a Jupyter environment, please rerun this cell to show the HTML representation or trust the notebook. <br />On GitHub, the HTML representation is unable to render, please try loading this page with nbviewer.org.</b></div><div class=\"sk-container\" hidden><div class=\"sk-item\"><div class=\"sk-estimator fitted sk-toggleable\"><input class=\"sk-toggleable__control sk-hidden--visually\" id=\"sk-estimator-id-1\" type=\"checkbox\" checked><label for=\"sk-estimator-id-1\" class=\"sk-toggleable__label fitted sk-toggleable__label-arrow\"><div><div>LogisticRegression</div></div><div><a class=\"sk-estimator-doc-link fitted\" rel=\"noreferrer\" target=\"_blank\" href=\"https://scikit-learn.org/1.6/modules/generated/sklearn.linear_model.LogisticRegression.html\">?<span>Documentation for LogisticRegression</span></a><span class=\"sk-estimator-doc-link fitted\">i<span>Fitted</span></span></div></label><div class=\"sk-toggleable__content fitted\"><pre>LogisticRegression(max_iter=500, random_state=0)</pre></div> </div></div></div></div>"
      ],
      "text/plain": [
       "LogisticRegression(max_iter=500, random_state=0)"
      ]
     },
     "execution_count": 38,
     "metadata": {},
     "output_type": "execute_result"
    }
   ],
   "source": [
    "# <write your code here>\n",
    "model=LogisticRegression(random_state=0, max_iter=500)\n",
    "cv_scores=cross_val_score(model, X_train,y_train, cv=5,scoring=\"accuracy\")\n",
    "model.fit(X_train,y_train)"
   ]
  },
  {
   "cell_type": "code",
   "execution_count": 39,
   "metadata": {},
   "outputs": [
    {
     "data": {
      "text/plain": [
       "0.8048888888888889"
      ]
     },
     "execution_count": 39,
     "metadata": {},
     "output_type": "execute_result"
    }
   ],
   "source": [
    "# <write your code here>\n",
    "y_pred=model.predict(X_test)\n",
    "acc = accuracy_score(y_test,y_pred)\n",
    "acc\n",
    "\n"
   ]
  },
  {
   "cell_type": "code",
   "execution_count": 40,
   "metadata": {},
   "outputs": [
    {
     "data": {
      "text/plain": [
       "array([[6728,  312],\n",
       "       [1444,  516]])"
      ]
     },
     "execution_count": 40,
     "metadata": {},
     "output_type": "execute_result"
    }
   ],
   "source": [
    "conf_matrix=confusion_matrix(y_test,y_pred)\n",
    "conf_matrix"
   ]
  },
  {
   "cell_type": "markdown",
   "metadata": {},
   "source": [
    "##### What do you think about this accuracy? Does it need improvement?"
   ]
  },
  {
   "cell_type": "markdown",
   "metadata": {},
   "source": [
    "\\<write your answer here\\>\n",
    "80% is not bad and not good so yes it needs improvement "
   ]
  },
  {
   "cell_type": "markdown",
   "metadata": {
    "_cell_guid": "9472ee05-4b8b-4176-b321-30c87b7a2a03",
    "_uuid": "1d0706cc0446eb357066d310e142a550bf3197c7"
   },
   "source": [
    "# 5. Feature Engineering [3 points]"
   ]
  },
  {
   "cell_type": "markdown",
   "metadata": {},
   "source": [
    "##### 1) One hot encode all categorical features\n",
    "- Convert the dtypes of 'SEX', 'MARRIAGE', and 'EDUCATION' to the dtype 'object'\n",
    "- apply one hot encoding (hint: use the get_dummies function provided by pandas)"
   ]
  },
  {
   "cell_type": "code",
   "execution_count": 41,
   "metadata": {},
   "outputs": [
    {
     "data": {
      "text/html": [
       "<div>\n",
       "<style scoped>\n",
       "    .dataframe tbody tr th:only-of-type {\n",
       "        vertical-align: middle;\n",
       "    }\n",
       "\n",
       "    .dataframe tbody tr th {\n",
       "        vertical-align: top;\n",
       "    }\n",
       "\n",
       "    .dataframe thead th {\n",
       "        text-align: right;\n",
       "    }\n",
       "</style>\n",
       "<table border=\"1\" class=\"dataframe\">\n",
       "  <thead>\n",
       "    <tr style=\"text-align: right;\">\n",
       "      <th></th>\n",
       "      <th>ID</th>\n",
       "      <th>LIMIT_BAL</th>\n",
       "      <th>AGE</th>\n",
       "      <th>PAY_1</th>\n",
       "      <th>PAY_2</th>\n",
       "      <th>PAY_3</th>\n",
       "      <th>PAY_4</th>\n",
       "      <th>PAY_5</th>\n",
       "      <th>PAY_6</th>\n",
       "      <th>BILL_AMT1</th>\n",
       "      <th>BILL_AMT2</th>\n",
       "      <th>BILL_AMT3</th>\n",
       "      <th>BILL_AMT4</th>\n",
       "      <th>BILL_AMT5</th>\n",
       "      <th>BILL_AMT6</th>\n",
       "      <th>PAY_AMT1</th>\n",
       "      <th>PAY_AMT2</th>\n",
       "      <th>PAY_AMT3</th>\n",
       "      <th>PAY_AMT4</th>\n",
       "      <th>PAY_AMT5</th>\n",
       "      <th>PAY_AMT6</th>\n",
       "      <th>default</th>\n",
       "      <th>SEX_1</th>\n",
       "      <th>SEX_2</th>\n",
       "      <th>MARRIAGE_1</th>\n",
       "      <th>MARRIAGE_2</th>\n",
       "      <th>MARRIAGE_3</th>\n",
       "      <th>EDUCATION_0</th>\n",
       "      <th>EDUCATION_1</th>\n",
       "      <th>EDUCATION_2</th>\n",
       "      <th>EDUCATION_4</th>\n",
       "    </tr>\n",
       "  </thead>\n",
       "  <tbody>\n",
       "    <tr>\n",
       "      <th>0</th>\n",
       "      <td>1</td>\n",
       "      <td>20000.0</td>\n",
       "      <td>24</td>\n",
       "      <td>2</td>\n",
       "      <td>2</td>\n",
       "      <td>0</td>\n",
       "      <td>0</td>\n",
       "      <td>0</td>\n",
       "      <td>0</td>\n",
       "      <td>3913.0</td>\n",
       "      <td>3102.0</td>\n",
       "      <td>689.0</td>\n",
       "      <td>0.0</td>\n",
       "      <td>0.0</td>\n",
       "      <td>0.0</td>\n",
       "      <td>0.0</td>\n",
       "      <td>689.0</td>\n",
       "      <td>0.0</td>\n",
       "      <td>0.0</td>\n",
       "      <td>0.0</td>\n",
       "      <td>0.0</td>\n",
       "      <td>1</td>\n",
       "      <td>False</td>\n",
       "      <td>True</td>\n",
       "      <td>True</td>\n",
       "      <td>False</td>\n",
       "      <td>False</td>\n",
       "      <td>False</td>\n",
       "      <td>False</td>\n",
       "      <td>True</td>\n",
       "      <td>False</td>\n",
       "    </tr>\n",
       "    <tr>\n",
       "      <th>1</th>\n",
       "      <td>2</td>\n",
       "      <td>120000.0</td>\n",
       "      <td>26</td>\n",
       "      <td>0</td>\n",
       "      <td>2</td>\n",
       "      <td>0</td>\n",
       "      <td>0</td>\n",
       "      <td>0</td>\n",
       "      <td>2</td>\n",
       "      <td>2682.0</td>\n",
       "      <td>1725.0</td>\n",
       "      <td>2682.0</td>\n",
       "      <td>3272.0</td>\n",
       "      <td>3455.0</td>\n",
       "      <td>3261.0</td>\n",
       "      <td>0.0</td>\n",
       "      <td>1000.0</td>\n",
       "      <td>1000.0</td>\n",
       "      <td>1000.0</td>\n",
       "      <td>0.0</td>\n",
       "      <td>2000.0</td>\n",
       "      <td>1</td>\n",
       "      <td>False</td>\n",
       "      <td>True</td>\n",
       "      <td>False</td>\n",
       "      <td>True</td>\n",
       "      <td>False</td>\n",
       "      <td>False</td>\n",
       "      <td>False</td>\n",
       "      <td>True</td>\n",
       "      <td>False</td>\n",
       "    </tr>\n",
       "    <tr>\n",
       "      <th>2</th>\n",
       "      <td>3</td>\n",
       "      <td>90000.0</td>\n",
       "      <td>34</td>\n",
       "      <td>0</td>\n",
       "      <td>0</td>\n",
       "      <td>0</td>\n",
       "      <td>0</td>\n",
       "      <td>0</td>\n",
       "      <td>0</td>\n",
       "      <td>29239.0</td>\n",
       "      <td>14027.0</td>\n",
       "      <td>13559.0</td>\n",
       "      <td>14331.0</td>\n",
       "      <td>14948.0</td>\n",
       "      <td>15549.0</td>\n",
       "      <td>1518.0</td>\n",
       "      <td>1500.0</td>\n",
       "      <td>1000.0</td>\n",
       "      <td>1000.0</td>\n",
       "      <td>1000.0</td>\n",
       "      <td>5000.0</td>\n",
       "      <td>0</td>\n",
       "      <td>False</td>\n",
       "      <td>True</td>\n",
       "      <td>False</td>\n",
       "      <td>True</td>\n",
       "      <td>False</td>\n",
       "      <td>False</td>\n",
       "      <td>False</td>\n",
       "      <td>True</td>\n",
       "      <td>False</td>\n",
       "    </tr>\n",
       "    <tr>\n",
       "      <th>3</th>\n",
       "      <td>4</td>\n",
       "      <td>50000.0</td>\n",
       "      <td>37</td>\n",
       "      <td>0</td>\n",
       "      <td>0</td>\n",
       "      <td>0</td>\n",
       "      <td>0</td>\n",
       "      <td>0</td>\n",
       "      <td>0</td>\n",
       "      <td>46990.0</td>\n",
       "      <td>48233.0</td>\n",
       "      <td>49291.0</td>\n",
       "      <td>28314.0</td>\n",
       "      <td>28959.0</td>\n",
       "      <td>29547.0</td>\n",
       "      <td>2000.0</td>\n",
       "      <td>2019.0</td>\n",
       "      <td>1200.0</td>\n",
       "      <td>1100.0</td>\n",
       "      <td>1069.0</td>\n",
       "      <td>1000.0</td>\n",
       "      <td>0</td>\n",
       "      <td>False</td>\n",
       "      <td>True</td>\n",
       "      <td>True</td>\n",
       "      <td>False</td>\n",
       "      <td>False</td>\n",
       "      <td>False</td>\n",
       "      <td>False</td>\n",
       "      <td>True</td>\n",
       "      <td>False</td>\n",
       "    </tr>\n",
       "    <tr>\n",
       "      <th>4</th>\n",
       "      <td>5</td>\n",
       "      <td>50000.0</td>\n",
       "      <td>57</td>\n",
       "      <td>0</td>\n",
       "      <td>0</td>\n",
       "      <td>0</td>\n",
       "      <td>0</td>\n",
       "      <td>0</td>\n",
       "      <td>0</td>\n",
       "      <td>8617.0</td>\n",
       "      <td>5670.0</td>\n",
       "      <td>35835.0</td>\n",
       "      <td>20940.0</td>\n",
       "      <td>19146.0</td>\n",
       "      <td>19131.0</td>\n",
       "      <td>2000.0</td>\n",
       "      <td>36681.0</td>\n",
       "      <td>10000.0</td>\n",
       "      <td>9000.0</td>\n",
       "      <td>689.0</td>\n",
       "      <td>679.0</td>\n",
       "      <td>0</td>\n",
       "      <td>True</td>\n",
       "      <td>False</td>\n",
       "      <td>True</td>\n",
       "      <td>False</td>\n",
       "      <td>False</td>\n",
       "      <td>False</td>\n",
       "      <td>False</td>\n",
       "      <td>True</td>\n",
       "      <td>False</td>\n",
       "    </tr>\n",
       "  </tbody>\n",
       "</table>\n",
       "</div>"
      ],
      "text/plain": [
       "   ID  LIMIT_BAL  AGE  PAY_1  PAY_2  PAY_3  PAY_4  PAY_5  PAY_6  BILL_AMT1  \\\n",
       "0   1    20000.0   24      2      2      0      0      0      0     3913.0   \n",
       "1   2   120000.0   26      0      2      0      0      0      2     2682.0   \n",
       "2   3    90000.0   34      0      0      0      0      0      0    29239.0   \n",
       "3   4    50000.0   37      0      0      0      0      0      0    46990.0   \n",
       "4   5    50000.0   57      0      0      0      0      0      0     8617.0   \n",
       "\n",
       "   BILL_AMT2  BILL_AMT3  BILL_AMT4  BILL_AMT5  BILL_AMT6  PAY_AMT1  PAY_AMT2  \\\n",
       "0     3102.0      689.0        0.0        0.0        0.0       0.0     689.0   \n",
       "1     1725.0     2682.0     3272.0     3455.0     3261.0       0.0    1000.0   \n",
       "2    14027.0    13559.0    14331.0    14948.0    15549.0    1518.0    1500.0   \n",
       "3    48233.0    49291.0    28314.0    28959.0    29547.0    2000.0    2019.0   \n",
       "4     5670.0    35835.0    20940.0    19146.0    19131.0    2000.0   36681.0   \n",
       "\n",
       "   PAY_AMT3  PAY_AMT4  PAY_AMT5  PAY_AMT6  default  SEX_1  SEX_2  MARRIAGE_1  \\\n",
       "0       0.0       0.0       0.0       0.0        1  False   True        True   \n",
       "1    1000.0    1000.0       0.0    2000.0        1  False   True       False   \n",
       "2    1000.0    1000.0    1000.0    5000.0        0  False   True       False   \n",
       "3    1200.0    1100.0    1069.0    1000.0        0  False   True        True   \n",
       "4   10000.0    9000.0     689.0     679.0        0   True  False        True   \n",
       "\n",
       "   MARRIAGE_2  MARRIAGE_3  EDUCATION_0  EDUCATION_1  EDUCATION_2  EDUCATION_4  \n",
       "0       False       False        False        False         True        False  \n",
       "1        True       False        False        False         True        False  \n",
       "2        True       False        False        False         True        False  \n",
       "3       False       False        False        False         True        False  \n",
       "4       False       False        False        False         True        False  "
      ]
     },
     "execution_count": 41,
     "metadata": {},
     "output_type": "execute_result"
    }
   ],
   "source": [
    "# <write your code here>\n",
    "df[\"SEX\"]=df[\"SEX\"].astype(object)\n",
    "df['MARRIAGE']=df['MARRIAGE'].astype(object)\n",
    "df['EDUCATION']=df['EDUCATION'].astype(object)\n",
    "\n",
    "df_encoded=pd.get_dummies(df, columns=['SEX','MARRIAGE','EDUCATION'])\n",
    "df_encoded.head()"
   ]
  },
  {
   "cell_type": "markdown",
   "metadata": {},
   "source": [
    "##### 2) Split the dataset between 70\\% training and 30\\% testing"
   ]
  },
  {
   "cell_type": "code",
   "execution_count": 42,
   "metadata": {},
   "outputs": [],
   "source": [
    "# <write your code here>\n",
    "X=df_encoded.drop(columns=['default'])\n",
    "y=df_encoded['default']\n",
    "\n",
    "X_train,X_test,y_train,y_test=train_test_split(X,y,test_size=0.3, random_state=42)"
   ]
  },
  {
   "cell_type": "markdown",
   "metadata": {},
   "source": [
    "##### 3) Confirm class imbalance in the labels of the dataset\n",
    "\n",
    "- Print the distribution of the labels in the train dataset"
   ]
  },
  {
   "cell_type": "code",
   "execution_count": 43,
   "metadata": {},
   "outputs": [
    {
     "data": {
      "text/plain": [
       "default\n",
       "0    16324\n",
       "1     4676\n",
       "Name: count, dtype: int64"
      ]
     },
     "execution_count": 43,
     "metadata": {},
     "output_type": "execute_result"
    }
   ],
   "source": [
    "# <write your code here>\n",
    "lc = y_train.value_counts()\n",
    "lc"
   ]
  },
  {
   "cell_type": "markdown",
   "metadata": {},
   "source": [
    "#### There's a lot of imbalance in the sample. So there are many ways to resampling!\n",
    "\n",
    "### Resampling involves creating a new transformed version of the training dataset in which the selected examples have a different class distribution. This is a simple and effective strategy for imbalanced classification problems.\n",
    "\n",
    "### The simplest strategy is to choose examples for the transformed dataset randomly, called random resampling. There are two main approaches to random resampling for imbalanced classification; they are oversampling and undersampling.\n",
    "\n",
    "#### A) Random Oversampling: Randomly duplicate examples in the minority class.\n",
    "#### B) Random Undersampling: Randomly delete examples in the majority class.\n",
    "#### C) SMOTE: Synthetic Minority Oversampling Technique\n",
    "\n",
    "#### Let's look at them, one by one"
   ]
  },
  {
   "cell_type": "markdown",
   "metadata": {},
   "source": [
    "### A) Random Oversampling: [4 points]"
   ]
  },
  {
   "cell_type": "markdown",
   "metadata": {},
   "source": [
    "#### Random oversampling involves randomly duplicating examples from the minority class and adding them to the training dataset.\n",
    "\n",
    "#### Examples from the training dataset are selected randomly with replacement. This means that examples from the minority class can be chosen and added to the new “more balanced” training dataset multiple times; they are selected from the original training dataset, added to the new training dataset, and then returned or “replaced” in the original dataset, allowing them to be selected again.\n",
    "\n",
    "#### To implement random oversampling, you need to use the resample function from the sklearn.utils package\n",
    "Documentation: https://scikit-learn.org/stable/modules/generated/sklearn.utils.resample.html\n",
    "\n",
    "- Implement random oversampling\n",
    "- Store the resulting dataframe in a new variable"
   ]
  },
  {
   "cell_type": "code",
   "execution_count": 44,
   "metadata": {
    "_cell_guid": "4ada9173-97ec-4f78-8fbb-6929e9ed50bb",
    "_uuid": "1cd3116618a42760cc4436cb36f4d3701e359d72"
   },
   "outputs": [],
   "source": [
    "# <write your code here>\n",
    "major_class = df_encoded[df_encoded['default'] == 0]\n",
    "minor_class = df_encoded[df_encoded['default'] == 1]\n",
    "\n",
    "minority_oversample = resample(minor_class,replace=True,n_samples=len(major_class),random_state=42)\n",
    "oversample_df = pd.concat([major_class,minority_oversample])\n"
   ]
  },
  {
   "cell_type": "markdown",
   "metadata": {},
   "source": [
    "### B) Random Undersampling: [4 points]"
   ]
  },
  {
   "cell_type": "markdown",
   "metadata": {},
   "source": [
    "#### Random undersampling involves randomly selecting examples from the majority class to delete from the training dataset.\n",
    "\n",
    "#### This has the effect of reducing the number of examples in the majority class in the transformed version of the training dataset. This process can be repeated until the desired class distribution is achieved, such as an equal number of examples for each class.\n",
    "\n",
    "#### This approach may be more suitable for those datasets where there is a class imbalance although a sufficient number of examples in the minority class, such a useful model can be fit.\n",
    "\n",
    "#### To implement random undersampling, you need to use the resample function from the sklearn.utils package\n",
    "\n",
    "Documentation: https://scikit-learn.org/stable/modules/generated/sklearn.utils.resample.html\n",
    "\n",
    "- Implement random undersamping\n",
    "- Store the resulting dataframe in a new variable"
   ]
  },
  {
   "cell_type": "code",
   "execution_count": 45,
   "metadata": {
    "_cell_guid": "054f2635-e062-45c6-9072-ec21c26bd861",
    "_uuid": "85d677968a1dfba6642ef2090addc38ebb53c063"
   },
   "outputs": [],
   "source": [
    "# <write your code here>\n",
    "majority_undersample = resample(major_class,replace=True,n_samples=len(minor_class),random_state=42)\n",
    "undersample_df=pd.concat([majority_undersample,minor_class])"
   ]
  },
  {
   "cell_type": "markdown",
   "metadata": {},
   "source": [
    "### C) SMOTE: Synthetic Minority Oversampling Technique [4 points]"
   ]
  },
  {
   "cell_type": "markdown",
   "metadata": {},
   "source": [
    "#### The upsample has the disadvantage of increasing the likelihood of overfitting since it replicates the minority class event. It usually outperform the downsampling. The downsample can discard potentially useful information and the sample can be biased, but it helps improving the run time\n",
    "\n",
    "#### SMOTE works by selecting examples that are close in the feature space, drawing a line between the examples in the feature space and drawing a new sample at a point along that line. To create a syntetic sample I want to use the SMOTE algorithm, which is an oversampling method which creates synthetic (fake) samples from the minority class instead of creating copies. It selects 2 or more similar instances and perturb them one at a time by random amount. This techniques should avoid overfitting problems but it risks adding noise to the model\n",
    "\n",
    "#### To implement SMOTE, you need to use the SMOTE function from the imblearn package\n",
    "Documentation: https://imbalanced-learn.org/stable/references/generated/imblearn.over_sampling.SMOTE.html\n",
    "- Implement SMOTE samling\n",
    "- Store the resulting dataframe in a new variable\n"
   ]
  },
  {
   "cell_type": "code",
   "execution_count": 46,
   "metadata": {
    "scrolled": true
   },
   "outputs": [
    {
     "data": {
      "text/plain": [
       "ID     LIMIT_BAL  AGE  PAY_1  PAY_2  PAY_3  PAY_4  PAY_5  PAY_6  BILL_AMT1  BILL_AMT2  BILL_AMT3  BILL_AMT4  BILL_AMT5  BILL_AMT6  PAY_AMT1  PAY_AMT2  PAY_AMT3  PAY_AMT4  PAY_AMT5  PAY_AMT6  SEX_1  SEX_2  MARRIAGE_1  MARRIAGE_2  MARRIAGE_3  EDUCATION_0  EDUCATION_1  EDUCATION_2  EDUCATION_4  default\n",
       "30000  50000.0    46   0      0      0      0      0      0      47929.0    48905.0    49764.0    36535.0    32428.0    15313.0    2078.0    1800.0    1430.0    1000.0    1000.0    1000.0    True   False  True        False       False       False        False        True         False        1          1\n",
       "1      20000.0    24   2      2      0      0      0      0      3913.0     3102.0     689.0      0.0        0.0        0.0        0.0       689.0     0.0       0.0       0.0       0.0       False  True   True        False       False       False        False        True         False        1          1\n",
       "2      120000.0   26   0      2      0      0      0      2      2682.0     1725.0     2682.0     3272.0     3455.0     3261.0     0.0       1000.0    1000.0    1000.0    0.0       2000.0    False  True   False       True        False       False        False        True         False        1          1\n",
       "3      90000.0    34   0      0      0      0      0      0      29239.0    14027.0    13559.0    14331.0    14948.0    15549.0    1518.0    1500.0    1000.0    1000.0    1000.0    5000.0    False  True   False       True        False       False        False        True         False        0          1\n",
       "4      50000.0    37   0      0      0      0      0      0      46990.0    48233.0    49291.0    28314.0    28959.0    29547.0    2000.0    2019.0    1200.0    1100.0    1069.0    1000.0    False  True   True        False       False       False        False        True         False        0          1\n",
       "                                                                                                                                                                                                                                                                                                               ..\n",
       "13     630000.0   41   0      0      0      0      0      0      12137.0    6500.0     6500.0     6500.0     6500.0     2870.0     1000.0    6500.0    6500.0    6500.0    2870.0    0.0       False  True   False       True        False       False        False        True         False        0          1\n",
       "12     260000.0   51   0      0      0      0      0      2      12261.0    21670.0    9966.0     8517.0     22287.0    13668.0    21818.0   9966.0    8583.0    22301.0   0.0       3640.0    False  True   False       True        False       False        True         False        False        0          1\n",
       "11     200000.0   34   0      0      2      0      0      0      11073.0    9787.0     5535.0     2513.0     1828.0     3731.0     2306.0    12.0      50.0      300.0     3738.0    66.0      False  True   False       True        False       False        False        False        True         0          1\n",
       "10     20000.0    35   0      0      0      0      0      0      0.0        0.0        0.0        0.0        13007.0    13912.0    0.0       0.0       0.0       13007.0   1122.0    0.0       True   False  False       True        False       False        False        False        True         0          1\n",
       "9      140000.0   28   0      0      2      0      0      0      11285.0    14096.0    12108.0    12211.0    11793.0    3719.0     3329.0    0.0       432.0     1000.0    1000.0    1000.0    False  True   True        False       False       False        False        False        True         0          1\n",
       "Name: count, Length: 46728, dtype: int64"
      ]
     },
     "execution_count": 46,
     "metadata": {},
     "output_type": "execute_result"
    }
   ],
   "source": [
    "# <write your code here>\n",
    "smote=SMOTE(random_state=42)\n",
    "X_resample,y_resample=smote.fit_resample(X, y)\n",
    "resampled_df=pd.DataFrame(X_resample,columns=X.columns)\n",
    "resampled_df['default']=y_resample\n",
    "resampled_df.value_counts()"
   ]
  },
  {
   "cell_type": "markdown",
   "metadata": {},
   "source": [
    "# 6. Models Building, Training, and Evaluation [9 points]"
   ]
  },
  {
   "cell_type": "markdown",
   "metadata": {},
   "source": [
    "#### At this point, we have 4 sets of training data:\n",
    "\n",
    "#### 1) The normal train data with unbalance\n",
    "#### 2) Train data with oversampling\n",
    "#### 3) Train data with undersampling\n",
    "#### 4) Train data with SMOTE algorithm\n",
    "\n",
    "#### The evaluation will be based on K fold cross validation through the accuracy score\n",
    "\n",
    "#### First let's define a function which evaluates the model with train and test score and also performs a K-fold cross validation on the train dataset"
   ]
  },
  {
   "cell_type": "code",
   "execution_count": 47,
   "metadata": {},
   "outputs": [],
   "source": [
    "def model_eval(algo, Xtrain,ytrain,Xtest,ytest):\n",
    "    # algo is the machine learning algorithm\n",
    "    from sklearn.metrics import confusion_matrix,accuracy_score,classification_report\n",
    "\n",
    "    # WITHOUT KFOLDS CROSS VALIDATION\n",
    "    # <write your code: fit the training data to the model>\n",
    "    algo.fit(Xtrain, ytrain)\n",
    "    # <write your code: following training, perform prediction on the train data>\n",
    "    ytrain_pred = algo.predict(Xtrain)\n",
    "\n",
    "    # <write your code: print the training accuracy score>\n",
    "    train_acc = accuracy_score(ytrain,ytrain_pred)\n",
    "    print(\"train accuracy:\")\n",
    "    print(train_acc)\n",
    "\n",
    "    # <write your code: perform prediction on the test data>\n",
    "    ytest_pred = algo.predict(Xtest)\n",
    "\n",
    "    # <write your code: print the testing accuracy score>\n",
    "    test_acc = accuracy_score(ytest,ytest_pred)\n",
    "    print(\"test accuarcy:\")\n",
    "    print(test_acc)\n",
    "    # <write your code: print the classification report (hint: use classification_report())>\n",
    "    print(\"classification report:\")\n",
    "    print(classification_report(ytest,ytest_pred))\n",
    "    \n",
    "    # WITH KFOLDS CROSS VALIDATION\n",
    "    # Define the kfold cross validation with the following\n",
    "    # parameters: n_splits=5, shuffle=True, random_state=42\n",
    "    kf = KFold(n_splits = 5,shuffle = True,random_state = 42)\n",
    "    score=[]\n",
    "    for train_idx,test_idx in kf.split(Xtrain,ytrain):\n",
    "        xtrain_k,xtest_k = Xtrain.iloc[train_idx,:],Xtrain.iloc[test_idx,:]\n",
    "        ytrain_k, ytest_k = ytrain.iloc[train_idx], ytrain.iloc[test_idx]\n",
    "        # <write your code: fit the train data of the fold to the model>\n",
    "        algo.fit(xtrain_k, ytrain_k)\n",
    "\n",
    "        # <write your code: perform prediction on the test data>\n",
    "        ytest_k_pred =algo.predict(xtest_k)\n",
    "\n",
    "        # <write your code: obtain the accuracy score>\n",
    "        acc=accuracy_score(ytest_k, ytest_k_pred)\n",
    "        score.append(acc)\n",
    "   \n",
    "    print('K-Fold scores: %0.03f' % (np.mean(score)))"
   ]
  },
  {
   "cell_type": "markdown",
   "metadata": {},
   "source": [
    "## Model Building:"
   ]
  },
  {
   "cell_type": "markdown",
   "metadata": {},
   "source": [
    "#### Your task is to use the following supervised machine learning algorithms with the 4 different datasets (normal, downsampling, upsampling, and smote) and also with hyperparameter tuning the models\n",
    "\n",
    "#### i) Logistic Regression\n",
    "#### ii) Naive Bayes\n",
    "#### iii) K-Nearest Neighbours\n",
    "#### iv) Decision Tree\n",
    "#### v) Random Forest\n",
    "#### vi) Support Vectore Machine\n",
    "\n",
    "### We will be providing the code for the Logistic Regression model with some missing pieces. You can use it to inspire for writing the rest of the models"
   ]
  },
  {
   "cell_type": "markdown",
   "metadata": {},
   "source": [
    "### i) Logistic Regression: [6 points]"
   ]
  },
  {
   "cell_type": "markdown",
   "metadata": {},
   "source": [
    "#### Let's first find out the best parameters for all the datasets:"
   ]
  },
  {
   "cell_type": "code",
   "execution_count": 48,
   "metadata": {
    "_kg_hide-output": true
   },
   "outputs": [
    {
     "name": "stdout",
     "output_type": "stream",
     "text": [
      "Data is  Normal Sampling\n",
      "Tuned Logistic Regression Parameters: {'C': 37, 'max_iter': 400, 'penalty': 'l1', 'solver': 'liblinear'}\n",
      "____________________________________________________________________________________________________\n",
      "Data is  Over Sampling\n",
      "Tuned Logistic Regression Parameters: {'C': 40, 'max_iter': 400, 'penalty': 'l1', 'solver': 'liblinear'}\n",
      "____________________________________________________________________________________________________\n",
      "Data is  Under Sampling\n",
      "Tuned Logistic Regression Parameters: {'C': 37, 'max_iter': 400, 'penalty': 'l1', 'solver': 'liblinear'}\n",
      "____________________________________________________________________________________________________\n",
      "Data is  SMOTE\n",
      "Tuned Logistic Regression Parameters: {'C': 37, 'max_iter': 400, 'penalty': 'l1', 'solver': 'liblinear'}\n",
      "____________________________________________________________________________________________________\n"
     ]
    }
   ],
   "source": [
    "# You might need to change the name of the following dataframes (normal and sampled) \n",
    "# depending on whatever you named them before\n",
    "\n",
    "xtrain_data = [X_train,oversample_df.drop('default',axis = 1),undersample_df.drop('default',axis = 1),X_resample]\n",
    "ytrain_data = [y_train,oversample_df['default'],undersample_df['default'],y_resample]\n",
    "name = ['Normal Sampling' , 'Over Sampling' , 'Under Sampling' , 'SMOTE']\n",
    "\n",
    "for i,j,k in zip(xtrain_data,ytrain_data,name):\n",
    "    print('Data is ',k)\n",
    "    best_log = []\n",
    "    # Setup the hyperparameter grid, (not scaled data)\n",
    "    # <write your code: define the parameters to use the RandomizedSearchCV>\n",
    "    param_grid={\n",
    "        'C': sp_randint(1, 100),\n",
    "        'penalty':['l1','l2'],\n",
    "        'solver':['liblinear', 'saga'],\n",
    "        'max_iter': [100, 200, 300, 400]\n",
    "    }\n",
    "    # Instantiate a logistic regression classifier\n",
    "    logreg = LogisticRegression()\n",
    "    # Instantiate the RandomizedSearchCV object\n",
    "    logreg_cv = RandomizedSearchCV(logreg, param_grid ,scoring = 'roc_auc', cv=5, random_state=0)\n",
    "    # Fit it to the data\n",
    "    # <write your code: fit the training data to the model>\n",
    "    logreg_cv.fit(i,j)\n",
    "    \n",
    "    best_log.append(logreg_cv.best_params_)\n",
    "    # Print the tuned parameters and score\n",
    "    print(\"Tuned Logistic Regression Parameters: {}\".format(logreg_cv.best_params_))\n",
    "    print(\"_\" * 100)"
   ]
  },
  {
   "cell_type": "markdown",
   "metadata": {},
   "source": [
    "#### Model evaluation of logistic regression"
   ]
  },
  {
   "cell_type": "code",
   "execution_count": null,
   "metadata": {
    "_kg_hide-input": true
   },
   "outputs": [],
   "source": [
    "# Update the param log based on the best values obtained for each dataframe here. Here is an example.\n",
    "param_log = [\n",
    "    {'C': 37, 'max_iter': 400, 'penalty': 'l1', 'solver': 'liblinear'}, \n",
    "    {'C': 40, 'max_iter': 400, 'penalty': 'l1', 'solver': 'liblinear'},  \n",
    "    {'C': 37, 'max_iter': 400, 'penalty': 'l1', 'solver': 'liblinear'},  \n",
    "    {'C': 37, 'max_iter': 400, 'penalty': 'l1', 'solver': 'liblinear'}  \n",
    "]"
   ]
  },
  {
   "cell_type": "code",
   "execution_count": 50,
   "metadata": {},
   "outputs": [
    {
     "name": "stdout",
     "output_type": "stream",
     "text": [
      "Normal Sampling: X shape (21000, 30), y shape (21000,)\n",
      "Over Sampling: X shape (46728, 30), y shape (46728,)\n",
      "Under Sampling: X shape (13272, 30), y shape (13272,)\n",
      "SMOTE: X shape (46728, 30), y shape (46728,)\n"
     ]
    }
   ],
   "source": [
    "for X, y, method in zip(xtrain_data, ytrain_data, name):\n",
    "    print(f\"{method}: X shape {X.shape}, y shape {y.shape}\")\n",
    "# i got aValueError: Found input variables with inconsistent numbers of samples: [16800, 21000]\n",
    "#so im making sure all the samples matches"
   ]
  },
  {
   "cell_type": "code",
   "execution_count": 51,
   "metadata": {},
   "outputs": [
    {
     "name": "stdout",
     "output_type": "stream",
     "text": [
      "Data is  Normal Sampling  And with hyper parameter  {'C': 37, 'max_iter': 400, 'penalty': 'l1', 'solver': 'liblinear'}\n",
      "train accuracy:\n",
      "0.819047619047619\n",
      "test accuarcy:\n",
      "0.8165555555555556\n",
      "classification report:\n",
      "              precision    recall  f1-score   support\n",
      "\n",
      "           0       0.83      0.96      0.89      7040\n",
      "           1       0.67      0.32      0.43      1960\n",
      "\n",
      "    accuracy                           0.82      9000\n",
      "   macro avg       0.75      0.64      0.66      9000\n",
      "weighted avg       0.80      0.82      0.79      9000\n",
      "\n",
      "K-Fold scores: 0.818\n",
      "____________________________________________________________\n",
      "Data is  Over Sampling  And with hyper parameter  {'C': 40, 'max_iter': 400, 'penalty': 'l1', 'solver': 'liblinear'}\n",
      "train accuracy:\n",
      "0.701356788221195\n",
      "test accuarcy:\n",
      "0.7761111111111111\n",
      "classification report:\n",
      "              precision    recall  f1-score   support\n",
      "\n",
      "           0       0.87      0.84      0.85      7040\n",
      "           1       0.49      0.56      0.52      1960\n",
      "\n",
      "    accuracy                           0.78      9000\n",
      "   macro avg       0.68      0.70      0.69      9000\n",
      "weighted avg       0.79      0.78      0.78      9000\n",
      "\n",
      "K-Fold scores: 0.701\n",
      "____________________________________________________________\n",
      "Data is  Under Sampling  And with hyper parameter  {'C': 37, 'max_iter': 400, 'penalty': 'l1', 'solver': 'liblinear'}\n",
      "train accuracy:\n",
      "0.7013261000602773\n",
      "test accuarcy:\n",
      "0.7757777777777778\n",
      "classification report:\n",
      "              precision    recall  f1-score   support\n",
      "\n",
      "           0       0.87      0.84      0.85      7040\n",
      "           1       0.49      0.56      0.52      1960\n",
      "\n",
      "    accuracy                           0.78      9000\n",
      "   macro avg       0.68      0.70      0.69      9000\n",
      "weighted avg       0.79      0.78      0.78      9000\n",
      "\n",
      "K-Fold scores: 0.700\n",
      "____________________________________________________________\n",
      "Data is  SMOTE  And with hyper parameter  {'C': 80, 'max_iter': 400, 'penalty': 'l1', 'solver': 'liblinear'}\n",
      "train accuracy:\n",
      "0.8524225303886321\n",
      "test accuarcy:\n",
      "0.819\n",
      "classification report:\n",
      "              precision    recall  f1-score   support\n",
      "\n",
      "           0       0.84      0.94      0.89      7040\n",
      "           1       0.65      0.37      0.47      1960\n",
      "\n",
      "    accuracy                           0.82      9000\n",
      "   macro avg       0.75      0.66      0.68      9000\n",
      "weighted avg       0.80      0.82      0.80      9000\n",
      "\n",
      "K-Fold scores: 0.853\n",
      "____________________________________________________________\n"
     ]
    }
   ],
   "source": [
    "xtrain_data = [X_train,oversample_df.drop('default',axis = 1),undersample_df.drop('default',axis = 1),X_resample]\n",
    "ytrain_data = [y_train,oversample_df['default'],undersample_df['default'],y_resample]\n",
    "name = ['Normal Sampling' , 'Over Sampling' , 'Under Sampling' , 'SMOTE']\n",
    "index = [0,1,2,3]\n",
    "\n",
    "for i,j,k,l in zip(xtrain_data,ytrain_data,name,index):\n",
    "    print('Data is ',k,' And with hyper parameter ',param_log[l])\n",
    "    model_eval(LogisticRegression(**param_log[l],random_state= 42), i,j,X_test,y_test)\n",
    "    print(\"_\" * 60)"
   ]
  },
  {
   "cell_type": "markdown",
   "metadata": {},
   "source": [
    "### ii) Naive bayes:"
   ]
  },
  {
   "cell_type": "code",
   "execution_count": null,
   "metadata": {},
   "outputs": [
    {
     "name": "stdout",
     "output_type": "stream",
     "text": [
      "Data is Normal Sampling\n",
      "train accuracy:\n",
      "0.37347619047619046\n",
      "test accuarcy:\n",
      "0.37422222222222223\n",
      "classification report:\n",
      "              precision    recall  f1-score   support\n",
      "\n",
      "           0       0.88      0.23      0.37      7040\n",
      "           1       0.24      0.89      0.38      1960\n",
      "\n",
      "    accuracy                           0.37      9000\n",
      "   macro avg       0.56      0.56      0.37      9000\n",
      "weighted avg       0.74      0.37      0.37      9000\n",
      "\n",
      "K-Fold scores: 0.380\n",
      "____________________________________________________________\n",
      "Data is Over Sampling\n",
      "train accuracy:\n",
      "0.54301489470981\n",
      "test accuarcy:\n",
      "0.32611111111111113\n",
      "classification report:\n",
      "              precision    recall  f1-score   support\n",
      "\n",
      "           0       0.89      0.16      0.27      7040\n",
      "           1       0.23      0.93      0.38      1960\n",
      "\n",
      "    accuracy                           0.33      9000\n",
      "   macro avg       0.56      0.54      0.32      9000\n",
      "weighted avg       0.75      0.33      0.29      9000\n",
      "\n",
      "K-Fold scores: 0.544\n",
      "____________________________________________________________\n",
      "Data is Under Sampling\n",
      "train accuracy:\n",
      "0.5395569620253164\n",
      "test accuarcy:\n",
      "0.3148888888888889\n",
      "classification report:\n",
      "              precision    recall  f1-score   support\n",
      "\n",
      "           0       0.89      0.14      0.24      7040\n",
      "           1       0.23      0.94      0.37      1960\n",
      "\n",
      "    accuracy                           0.31      9000\n",
      "   macro avg       0.56      0.54      0.31      9000\n",
      "weighted avg       0.75      0.31      0.27      9000\n",
      "\n",
      "K-Fold scores: 0.539\n",
      "____________________________________________________________\n",
      "Data is SMOTE\n",
      "train accuracy:\n",
      "0.5479155966444103\n",
      "test accuarcy:\n",
      "0.3267777777777778\n",
      "classification report:\n",
      "              precision    recall  f1-score   support\n",
      "\n",
      "           0       0.89      0.16      0.27      7040\n",
      "           1       0.24      0.93      0.38      1960\n",
      "\n",
      "    accuracy                           0.33      9000\n",
      "   macro avg       0.56      0.54      0.32      9000\n",
      "weighted avg       0.75      0.33      0.29      9000\n",
      "\n",
      "K-Fold scores: 0.547\n",
      "____________________________________________________________\n"
     ]
    }
   ],
   "source": [
    "# <write your code here>\n",
    "pipeline = Pipeline([\n",
    "        ('scaler', StandardScaler()), \n",
    "        ('model', GaussianNB())  \n",
    "    ])\n",
    "\n",
    "\n",
    "for i, j, k in zip(xtrain_data, ytrain_data, name):\n",
    "    print('Data is', k)\n",
    "    model_eval(pipeline, i, j, X_test, y_test)\n",
    "    print(\"_\" * 60)\n"
   ]
  },
  {
   "cell_type": "markdown",
   "metadata": {},
   "source": [
    "### iii) K-Nearest Neighbours: "
   ]
  },
  {
   "cell_type": "code",
   "execution_count": 54,
   "metadata": {},
   "outputs": [
    {
     "name": "stdout",
     "output_type": "stream",
     "text": [
      "Data is  Normal Sampling\n",
      "Tuned knn Parameters: {'model__weights': 'distance', 'model__p': 2, 'model__n_neighbors': 49, 'model__metric': 'manhattan'}\n",
      "____________________________________________________________________________________________________\n",
      "Data is  Over Sampling\n",
      "Tuned knn Parameters: {'model__weights': 'distance', 'model__p': 2, 'model__n_neighbors': 49, 'model__metric': 'manhattan'}\n",
      "____________________________________________________________________________________________________\n",
      "Data is  Under Sampling\n",
      "Tuned knn Parameters: {'model__weights': 'distance', 'model__p': 2, 'model__n_neighbors': 49, 'model__metric': 'manhattan'}\n",
      "____________________________________________________________________________________________________\n",
      "Data is  SMOTE\n",
      "Tuned knn Parameters: {'model__weights': 'distance', 'model__p': 1, 'model__n_neighbors': 34, 'model__metric': 'minkowski'}\n",
      "____________________________________________________________________________________________________\n"
     ]
    }
   ],
   "source": [
    "for i,j,k in zip(xtrain_data,ytrain_data,name):\n",
    "    print('Data is ',k)\n",
    "    best_log = []\n",
    "    # Setup the hyperparameter grid, (not scaled data)\n",
    "    # <write your code: define the parameters to use the RandomizedSearchCV>\n",
    "   \n",
    "    param_grid={\n",
    "       'model__n_neighbors': range(1, 50),\n",
    "        'model__weights': ['uniform', 'distance'],\n",
    "        'model__metric': ['euclidean', 'manhattan', 'minkowski'],\n",
    "        'model__p': [1, 2]\n",
    "    }\n",
    "\n",
    "    pipeline = Pipeline([\n",
    "        ('scaler', StandardScaler()), \n",
    "        ('model', KNeighborsClassifier())  \n",
    "    ])\n",
    "\n",
    "    # Instantiate a logistic regression classifier\n",
    "\n",
    "    # Instantiate the RandomizedSearchCV object\n",
    "    knn_cv = RandomizedSearchCV(pipeline, param_grid ,scoring = 'roc_auc', cv=5, random_state=0)\n",
    "    # Fit it to the data\n",
    "    # <write your code: fit the training data to the model>\n",
    "    knn_cv.fit(i,j)\n",
    "    \n",
    "    best_log.append(knn_cv.best_params_)\n",
    "    # Print the tuned parameters and score\n",
    "    print(\"Tuned knn Parameters: {}\".format(knn_cv.best_params_))\n",
    "    print(\"_\" * 100)"
   ]
  },
  {
   "cell_type": "code",
   "execution_count": 55,
   "metadata": {},
   "outputs": [],
   "source": [
    "param_log = [\n",
    "    {'weights': 'distance', 'p': 2, 'n_neighbors': 49, 'metric': 'manhattan'}, \n",
    "    {'weights': 'distance', 'p': 2, 'n_neighbors': 49, 'metric': 'manhattan'},  \n",
    "    {'weights': 'distance', 'p': 2, 'n_neighbors': 49, 'metric': 'manhattan'},  \n",
    "    {'weights': 'distance', 'p': 1, 'n_neighbors': 34, 'metric': 'minkowski'}  \n",
    "]"
   ]
  },
  {
   "cell_type": "code",
   "execution_count": 56,
   "metadata": {},
   "outputs": [
    {
     "name": "stdout",
     "output_type": "stream",
     "text": [
      "Data is  Normal Sampling  And with hyper parameter  {'weights': 'distance', 'p': 2, 'n_neighbors': 49, 'metric': 'manhattan'}\n",
      "train accuracy:\n",
      "1.0\n",
      "test accuarcy:\n",
      "0.7843333333333333\n",
      "classification report:\n",
      "              precision    recall  f1-score   support\n",
      "\n",
      "           0       0.79      0.98      0.88      7040\n",
      "           1       0.53      0.08      0.13      1960\n",
      "\n",
      "    accuracy                           0.78      9000\n",
      "   macro avg       0.66      0.53      0.50      9000\n",
      "weighted avg       0.74      0.78      0.71      9000\n",
      "\n",
      "K-Fold scores: 0.778\n",
      "____________________________________________________________\n",
      "Data is  Over Sampling  And with hyper parameter  {'weights': 'distance', 'p': 2, 'n_neighbors': 49, 'metric': 'manhattan'}\n",
      "train accuracy:\n",
      "1.0\n",
      "test accuarcy:\n",
      "0.9972222222222222\n",
      "classification report:\n",
      "              precision    recall  f1-score   support\n",
      "\n",
      "           0       1.00      1.00      1.00      7040\n",
      "           1       1.00      0.99      0.99      1960\n",
      "\n",
      "    accuracy                           1.00      9000\n",
      "   macro avg       1.00      0.99      1.00      9000\n",
      "weighted avg       1.00      1.00      1.00      9000\n",
      "\n",
      "K-Fold scores: 0.770\n",
      "____________________________________________________________\n",
      "Data is  Under Sampling  And with hyper parameter  {'weights': 'distance', 'p': 2, 'n_neighbors': 49, 'metric': 'manhattan'}\n",
      "train accuracy:\n",
      "1.0\n",
      "test accuarcy:\n",
      "0.7134444444444444\n",
      "classification report:\n",
      "              precision    recall  f1-score   support\n",
      "\n",
      "           0       1.00      0.63      0.78      7040\n",
      "           1       0.43      1.00      0.60      1960\n",
      "\n",
      "    accuracy                           0.71      9000\n",
      "   macro avg       0.72      0.82      0.69      9000\n",
      "weighted avg       0.88      0.71      0.74      9000\n",
      "\n",
      "K-Fold scores: 0.663\n",
      "____________________________________________________________\n",
      "Data is  SMOTE  And with hyper parameter  {'weights': 'distance', 'p': 1, 'n_neighbors': 34, 'metric': 'minkowski'}\n",
      "train accuracy:\n",
      "1.0\n",
      "test accuarcy:\n",
      "1.0\n",
      "classification report:\n",
      "              precision    recall  f1-score   support\n",
      "\n",
      "           0       1.00      1.00      1.00      7040\n",
      "           1       1.00      1.00      1.00      1960\n",
      "\n",
      "    accuracy                           1.00      9000\n",
      "   macro avg       1.00      1.00      1.00      9000\n",
      "weighted avg       1.00      1.00      1.00      9000\n",
      "\n",
      "K-Fold scores: 0.714\n",
      "____________________________________________________________\n"
     ]
    }
   ],
   "source": [
    "# <write your code here>\n",
    "xtrain_data = [X_train,oversample_df.drop('default',axis = 1),undersample_df.drop('default',axis = 1),X_resample]\n",
    "ytrain_data = [y_train,oversample_df['default'],undersample_df['default'],y_resample]\n",
    "name = ['Normal Sampling' , 'Over Sampling' , 'Under Sampling' , 'SMOTE']\n",
    "index = [0,1,2,3]\n",
    "\n",
    "for i,j,k,l in zip(xtrain_data,ytrain_data,name,index):\n",
    "    print('Data is ',k,' And with hyper parameter ',param_log[l])\n",
    "    model_eval(KNeighborsClassifier(**param_log[l]), i,j,X_test,y_test)\n",
    "    print(\"_\" * 60)"
   ]
  },
  {
   "cell_type": "markdown",
   "metadata": {},
   "source": [
    "### iv) Decision Tree"
   ]
  },
  {
   "cell_type": "code",
   "execution_count": 58,
   "metadata": {},
   "outputs": [
    {
     "name": "stdout",
     "output_type": "stream",
     "text": [
      "Data is  Normal Sampling\n",
      "Tuned decision tree Parameters: {'model__min_samples_split': 50, 'model__min_samples_leaf': 5, 'model__max_features': 'sqrt', 'model__max_depth': 5, 'model__criterion': 'gini'}\n",
      "____________________________________________________________________________________________________\n",
      "Data is  Over Sampling\n",
      "Tuned decision tree Parameters: {'model__min_samples_split': 50, 'model__min_samples_leaf': 5, 'model__max_features': 'sqrt', 'model__max_depth': 5, 'model__criterion': 'gini'}\n",
      "____________________________________________________________________________________________________\n",
      "Data is  Under Sampling\n",
      "Tuned decision tree Parameters: {'model__min_samples_split': 10, 'model__min_samples_leaf': 3, 'model__max_features': 'log2', 'model__max_depth': 10, 'model__criterion': 'gini'}\n",
      "____________________________________________________________________________________________________\n",
      "Data is  SMOTE\n",
      "Tuned decision tree Parameters: {'model__min_samples_split': 10, 'model__min_samples_leaf': 3, 'model__max_features': 'log2', 'model__max_depth': 10, 'model__criterion': 'gini'}\n",
      "____________________________________________________________________________________________________\n"
     ]
    }
   ],
   "source": [
    "for i,j,k in zip(xtrain_data,ytrain_data,name):\n",
    "    print('Data is ',k)\n",
    "    best_log = []\n",
    "    # Setup the hyperparameter grid, (not scaled data)\n",
    "    # <write your code: define the parameters to use the RandomizedSearchCV>\n",
    "    param_grid = {\n",
    "        'model__max_depth': [5, 10, 100, None],\n",
    "        'model__min_samples_split': [5, 10, 50],\n",
    "        'model__min_samples_leaf': [3, 5, 4],\n",
    "        'model__criterion': ['gini', 'entropy'],\n",
    "        'model__max_features': ['sqrt', 'log2', None]\n",
    "    }\n",
    "    pipeline = Pipeline([\n",
    "        ('scaler', MinMaxScaler()), \n",
    "        ('model', DecisionTreeClassifier())  \n",
    "    ])\n",
    "    \n",
    "    # Instantiate a logistic regression classifier\n",
    "\n",
    "    # Instantiate the RandomizedSearchCV object\n",
    "    ds_cv = RandomizedSearchCV(pipeline, param_grid ,scoring = 'roc_auc', cv=5, random_state=0)\n",
    "    # Fit it to the data\n",
    "    # <write your code: fit the training data to the model>\n",
    "    ds_cv.fit(i,j)\n",
    "    \n",
    "    best_log.append(ds_cv.best_params_)\n",
    "    # Print the tuned parameters and score\n",
    "    print(\"Tuned decision tree Parameters: {}\".format(ds_cv.best_params_))\n",
    "    print(\"_\" * 100)"
   ]
  },
  {
   "cell_type": "code",
   "execution_count": 59,
   "metadata": {},
   "outputs": [],
   "source": [
    "param_log = [\n",
    "    {'min_samples_split': 50, 'min_samples_leaf': 5, 'max_features': 'sqrt', 'max_depth': 5, 'criterion': 'gini'}, \n",
    "    {'min_samples_split': 50, 'min_samples_leaf': 5, 'max_features': 'sqrt', 'max_depth': 5, 'criterion': 'gini'},  \n",
    "    {'min_samples_split': 10, 'min_samples_leaf':3, 'max_features': 'log2', 'max_depth': 10, 'criterion': 'gini'},  \n",
    "    {'min_samples_split': 10, 'min_samples_leaf': 3, 'max_features': 'log2', 'max_depth': 10, 'criterion': 'gini'} \n",
    "]"
   ]
  },
  {
   "cell_type": "code",
   "execution_count": 60,
   "metadata": {},
   "outputs": [
    {
     "name": "stdout",
     "output_type": "stream",
     "text": [
      "Data is  Normal Sampling  And with hyper parameter  {'min_samples_split': 50, 'min_samples_leaf': 5, 'max_features': 'sqrt', 'max_depth': 5, 'criterion': 'gini'}\n",
      "train accuracy:\n",
      "0.8067619047619048\n",
      "test accuarcy:\n",
      "0.7957777777777778\n",
      "classification report:\n",
      "              precision    recall  f1-score   support\n",
      "\n",
      "           0       0.83      0.94      0.88      7040\n",
      "           1       0.56      0.29      0.38      1960\n",
      "\n",
      "    accuracy                           0.80      9000\n",
      "   macro avg       0.69      0.61      0.63      9000\n",
      "weighted avg       0.77      0.80      0.77      9000\n",
      "\n",
      "K-Fold scores: 0.805\n",
      "____________________________________________________________\n",
      "Data is  Over Sampling  And with hyper parameter  {'min_samples_split': 50, 'min_samples_leaf': 5, 'max_features': 'sqrt', 'max_depth': 5, 'criterion': 'gini'}\n",
      "train accuracy:\n",
      "0.6658962506420133\n",
      "test accuarcy:\n",
      "0.6334444444444445\n",
      "classification report:\n",
      "              precision    recall  f1-score   support\n",
      "\n",
      "           0       0.89      0.61      0.72      7040\n",
      "           1       0.34      0.72      0.46      1960\n",
      "\n",
      "    accuracy                           0.63      9000\n",
      "   macro avg       0.61      0.66      0.59      9000\n",
      "weighted avg       0.77      0.63      0.67      9000\n",
      "\n",
      "K-Fold scores: 0.690\n",
      "____________________________________________________________\n",
      "Data is  Under Sampling  And with hyper parameter  {'min_samples_split': 10, 'min_samples_leaf': 3, 'max_features': 'log2', 'max_depth': 10, 'criterion': 'gini'}\n",
      "train accuracy:\n",
      "0.7375678119349005\n",
      "test accuarcy:\n",
      "0.7746666666666666\n",
      "classification report:\n",
      "              precision    recall  f1-score   support\n",
      "\n",
      "           0       0.88      0.82      0.85      7040\n",
      "           1       0.49      0.60      0.54      1960\n",
      "\n",
      "    accuracy                           0.77      9000\n",
      "   macro avg       0.68      0.71      0.69      9000\n",
      "weighted avg       0.79      0.77      0.78      9000\n",
      "\n",
      "K-Fold scores: 0.680\n",
      "____________________________________________________________\n",
      "Data is  SMOTE  And with hyper parameter  {'min_samples_split': 10, 'min_samples_leaf': 3, 'max_features': 'log2', 'max_depth': 10, 'criterion': 'gini'}\n",
      "train accuracy:\n",
      "0.800868858072248\n",
      "test accuarcy:\n",
      "0.8003333333333333\n",
      "classification report:\n",
      "              precision    recall  f1-score   support\n",
      "\n",
      "           0       0.86      0.89      0.88      7040\n",
      "           1       0.55      0.46      0.50      1960\n",
      "\n",
      "    accuracy                           0.80      9000\n",
      "   macro avg       0.70      0.68      0.69      9000\n",
      "weighted avg       0.79      0.80      0.79      9000\n",
      "\n",
      "K-Fold scores: 0.771\n",
      "____________________________________________________________\n"
     ]
    }
   ],
   "source": [
    "# <write your code here>\n",
    "xtrain_data = [X_train,oversample_df.drop('default',axis = 1),undersample_df.drop('default',axis = 1),X_resample]\n",
    "ytrain_data = [y_train,oversample_df['default'],undersample_df['default'],y_resample]\n",
    "name = ['Normal Sampling' , 'Over Sampling' , 'Under Sampling' , 'SMOTE']\n",
    "index = [0,1,2,3]\n",
    "\n",
    "for i,j,k,l in zip(xtrain_data,ytrain_data,name,index):\n",
    "    print('Data is ',k,' And with hyper parameter ',param_log[l])\n",
    "    model_eval(DecisionTreeClassifier(**param_log[l]), i,j,X_test,y_test)\n",
    "    print(\"_\" * 60)"
   ]
  },
  {
   "cell_type": "markdown",
   "metadata": {},
   "source": [
    "### v) Random Forest"
   ]
  },
  {
   "cell_type": "code",
   "execution_count": 61,
   "metadata": {},
   "outputs": [
    {
     "name": "stdout",
     "output_type": "stream",
     "text": [
      "Data is  Normal Sampling\n",
      "Tuned random forest Parameters: {'model__n_estimators': 100, 'model__min_samples_split': 2, 'model__max_depth': 10}\n",
      "____________________________________________________________________________________________________\n",
      "Data is  Over Sampling\n",
      "Tuned random forest Parameters: {'model__n_estimators': 100, 'model__min_samples_split': 4, 'model__max_depth': 15}\n",
      "____________________________________________________________________________________________________\n",
      "Data is  Under Sampling\n",
      "Tuned random forest Parameters: {'model__n_estimators': 100, 'model__min_samples_split': 4, 'model__max_depth': 5}\n",
      "____________________________________________________________________________________________________\n",
      "Data is  SMOTE\n",
      "Tuned random forest Parameters: {'model__n_estimators': 100, 'model__min_samples_split': 2, 'model__max_depth': 5}\n",
      "____________________________________________________________________________________________________\n"
     ]
    }
   ],
   "source": [
    "for i,j,k in zip(xtrain_data,ytrain_data,name):\n",
    "    print('Data is ',k)\n",
    "    best_log = []\n",
    "    # Setup the hyperparameter grid, (not scaled data)\n",
    "    # <write your code: define the parameters to use the RandomizedSearchCV>\n",
    "    param_grid = {\n",
    "        'model__n_estimators': [20, 50,100],\n",
    "        'model__max_depth': [5, 10, 15],\n",
    "        'model__min_samples_split': [2, 4, 5],\n",
    "    }\n",
    "\n",
    "    pipeline = Pipeline([\n",
    "        ('scaler', MinMaxScaler()), \n",
    "        ('model', RandomForestClassifier())  \n",
    "    ])\n",
    "    # Instantiate a logistic regression classifier\n",
    "\n",
    "    # Instantiate the RandomizedSearchCV object\n",
    "    rf_cv = RandomizedSearchCV(pipeline, param_grid ,scoring = 'roc_auc', cv=5, random_state=0)\n",
    "    # Fit it to the data\n",
    "    # <write your code: fit the training data to the model>\n",
    "    rf_cv.fit(i,j)\n",
    "    \n",
    "    best_log.append(rf_cv.best_params_)\n",
    "    # Print the tuned parameters and score\n",
    "    print(\"Tuned random forest Parameters: {}\".format(rf_cv.best_params_))\n",
    "    print(\"_\" * 100)"
   ]
  },
  {
   "cell_type": "code",
   "execution_count": 62,
   "metadata": {},
   "outputs": [],
   "source": [
    "param_log = [\n",
    "    {'n_estimators': 100, 'min_samples_split': 2, 'max_depth': 10}, \n",
    "    {'n_estimators': 100, 'min_samples_split': 4, 'max_depth': 15},  \n",
    "    {'n_estimators': 100, 'min_samples_split': 4, 'max_depth': 5},  \n",
    "    {'n_estimators': 100, 'min_samples_split': 2, 'max_depth': 5} \n",
    "]"
   ]
  },
  {
   "cell_type": "code",
   "execution_count": 63,
   "metadata": {},
   "outputs": [
    {
     "name": "stdout",
     "output_type": "stream",
     "text": [
      "Data is  Normal Sampling  And with hyper parameter  {'n_estimators': 100, 'min_samples_split': 2, 'max_depth': 10}\n",
      "train accuracy:\n",
      "0.8630476190476191\n",
      "test accuarcy:\n",
      "0.8203333333333334\n",
      "classification report:\n",
      "              precision    recall  f1-score   support\n",
      "\n",
      "           0       0.84      0.95      0.89      7040\n",
      "           1       0.67      0.35      0.46      1960\n",
      "\n",
      "    accuracy                           0.82      9000\n",
      "   macro avg       0.75      0.65      0.68      9000\n",
      "weighted avg       0.80      0.82      0.80      9000\n",
      "\n",
      "K-Fold scores: 0.818\n",
      "____________________________________________________________\n",
      "Data is  Over Sampling  And with hyper parameter  {'n_estimators': 100, 'min_samples_split': 4, 'max_depth': 15}\n",
      "train accuracy:\n",
      "0.9119585687382298\n",
      "test accuarcy:\n",
      "0.9132222222222223\n",
      "classification report:\n",
      "              precision    recall  f1-score   support\n",
      "\n",
      "           0       0.96      0.93      0.94      7040\n",
      "           1       0.78      0.85      0.81      1960\n",
      "\n",
      "    accuracy                           0.91      9000\n",
      "   macro avg       0.87      0.89      0.88      9000\n",
      "weighted avg       0.92      0.91      0.91      9000\n",
      "\n",
      "K-Fold scores: 0.852\n",
      "____________________________________________________________\n",
      "Data is  Under Sampling  And with hyper parameter  {'n_estimators': 100, 'min_samples_split': 4, 'max_depth': 5}\n",
      "train accuracy:\n",
      "0.720614828209765\n",
      "test accuarcy:\n",
      "0.7714444444444445\n",
      "classification report:\n",
      "              precision    recall  f1-score   support\n",
      "\n",
      "           0       0.88      0.82      0.85      7040\n",
      "           1       0.48      0.61      0.54      1960\n",
      "\n",
      "    accuracy                           0.77      9000\n",
      "   macro avg       0.68      0.71      0.69      9000\n",
      "weighted avg       0.79      0.77      0.78      9000\n",
      "\n",
      "K-Fold scores: 0.715\n",
      "____________________________________________________________\n",
      "Data is  SMOTE  And with hyper parameter  {'n_estimators': 100, 'min_samples_split': 2, 'max_depth': 5}\n",
      "train accuracy:\n",
      "0.8081664098613252\n",
      "test accuarcy:\n",
      "0.7943333333333333\n",
      "classification report:\n",
      "              precision    recall  f1-score   support\n",
      "\n",
      "           0       0.86      0.88      0.87      7040\n",
      "           1       0.53      0.50      0.52      1960\n",
      "\n",
      "    accuracy                           0.79      9000\n",
      "   macro avg       0.70      0.69      0.69      9000\n",
      "weighted avg       0.79      0.79      0.79      9000\n",
      "\n",
      "K-Fold scores: 0.807\n",
      "____________________________________________________________\n"
     ]
    }
   ],
   "source": [
    "# <write your code here>\n",
    "xtrain_data = [X_train,oversample_df.drop('default',axis = 1),undersample_df.drop('default',axis = 1),X_resample]\n",
    "ytrain_data = [y_train,oversample_df['default'],undersample_df['default'],y_resample]\n",
    "name = ['Normal Sampling' , 'Over Sampling' , 'Under Sampling' , 'SMOTE']\n",
    "index = [0,1,2,3]\n",
    "\n",
    "for i,j,k,l in zip(xtrain_data,ytrain_data,name,index):\n",
    "    print('Data is ',k,' And with hyper parameter ',param_log[l])\n",
    "    model_eval(RandomForestClassifier(**param_log[l]), i,j,X_test,y_test)\n",
    "    print(\"_\" * 60)"
   ]
  },
  {
   "cell_type": "markdown",
   "metadata": {},
   "source": [
    "### vi) Support Vector Machine (SVM)"
   ]
  },
  {
   "cell_type": "markdown",
   "metadata": {},
   "source": [
    "as i mentioned in the email, i tried many parameters and i try running it without tunning with fixed values but it still took too much time \n"
   ]
  },
  {
   "cell_type": "code",
   "execution_count": null,
   "metadata": {},
   "outputs": [
    {
     "name": "stdout",
     "output_type": "stream",
     "text": [
      "Data is  Normal Sampling\n"
     ]
    },
    {
     "ename": "KeyboardInterrupt",
     "evalue": "",
     "output_type": "error",
     "traceback": [
      "\u001b[1;31m---------------------------------------------------------------------------\u001b[0m",
      "\u001b[1;31mKeyboardInterrupt\u001b[0m                         Traceback (most recent call last)",
      "Cell \u001b[1;32mIn[74], line 22\u001b[0m\n\u001b[0;32m     19\u001b[0m svc_cv \u001b[38;5;241m=\u001b[39m RandomizedSearchCV(pipeline, param_grid ,scoring \u001b[38;5;241m=\u001b[39m \u001b[38;5;124m'\u001b[39m\u001b[38;5;124mroc_auc\u001b[39m\u001b[38;5;124m'\u001b[39m, cv\u001b[38;5;241m=\u001b[39m\u001b[38;5;241m5\u001b[39m,  n_iter\u001b[38;5;241m=\u001b[39m\u001b[38;5;241m20\u001b[39m, random_state\u001b[38;5;241m=\u001b[39m\u001b[38;5;241m0\u001b[39m, n_jobs\u001b[38;5;241m=\u001b[39m\u001b[38;5;241m-\u001b[39m\u001b[38;5;241m1\u001b[39m)\n\u001b[0;32m     20\u001b[0m \u001b[38;5;66;03m# Fit it to the data\u001b[39;00m\n\u001b[0;32m     21\u001b[0m \u001b[38;5;66;03m# <write your code: fit the training data to the model>\u001b[39;00m\n\u001b[1;32m---> 22\u001b[0m \u001b[43msvc_cv\u001b[49m\u001b[38;5;241;43m.\u001b[39;49m\u001b[43mfit\u001b[49m\u001b[43m(\u001b[49m\u001b[43mi\u001b[49m\u001b[43m,\u001b[49m\u001b[43mj\u001b[49m\u001b[43m)\u001b[49m\n\u001b[0;32m     24\u001b[0m best_log\u001b[38;5;241m.\u001b[39mappend(svc_cv\u001b[38;5;241m.\u001b[39mbest_params_)\n\u001b[0;32m     25\u001b[0m \u001b[38;5;66;03m# Print the tuned parameters and score\u001b[39;00m\n",
      "File \u001b[1;32m~\\AppData\\Roaming\\Python\\Python312\\site-packages\\sklearn\\base.py:1389\u001b[0m, in \u001b[0;36m_fit_context.<locals>.decorator.<locals>.wrapper\u001b[1;34m(estimator, *args, **kwargs)\u001b[0m\n\u001b[0;32m   1382\u001b[0m     estimator\u001b[38;5;241m.\u001b[39m_validate_params()\n\u001b[0;32m   1384\u001b[0m \u001b[38;5;28;01mwith\u001b[39;00m config_context(\n\u001b[0;32m   1385\u001b[0m     skip_parameter_validation\u001b[38;5;241m=\u001b[39m(\n\u001b[0;32m   1386\u001b[0m         prefer_skip_nested_validation \u001b[38;5;129;01mor\u001b[39;00m global_skip_validation\n\u001b[0;32m   1387\u001b[0m     )\n\u001b[0;32m   1388\u001b[0m ):\n\u001b[1;32m-> 1389\u001b[0m     \u001b[38;5;28;01mreturn\u001b[39;00m \u001b[43mfit_method\u001b[49m\u001b[43m(\u001b[49m\u001b[43mestimator\u001b[49m\u001b[43m,\u001b[49m\u001b[43m \u001b[49m\u001b[38;5;241;43m*\u001b[39;49m\u001b[43margs\u001b[49m\u001b[43m,\u001b[49m\u001b[43m \u001b[49m\u001b[38;5;241;43m*\u001b[39;49m\u001b[38;5;241;43m*\u001b[39;49m\u001b[43mkwargs\u001b[49m\u001b[43m)\u001b[49m\n",
      "File \u001b[1;32m~\\AppData\\Roaming\\Python\\Python312\\site-packages\\sklearn\\model_selection\\_search.py:1024\u001b[0m, in \u001b[0;36mBaseSearchCV.fit\u001b[1;34m(self, X, y, **params)\u001b[0m\n\u001b[0;32m   1018\u001b[0m     results \u001b[38;5;241m=\u001b[39m \u001b[38;5;28mself\u001b[39m\u001b[38;5;241m.\u001b[39m_format_results(\n\u001b[0;32m   1019\u001b[0m         all_candidate_params, n_splits, all_out, all_more_results\n\u001b[0;32m   1020\u001b[0m     )\n\u001b[0;32m   1022\u001b[0m     \u001b[38;5;28;01mreturn\u001b[39;00m results\n\u001b[1;32m-> 1024\u001b[0m \u001b[38;5;28;43mself\u001b[39;49m\u001b[38;5;241;43m.\u001b[39;49m\u001b[43m_run_search\u001b[49m\u001b[43m(\u001b[49m\u001b[43mevaluate_candidates\u001b[49m\u001b[43m)\u001b[49m\n\u001b[0;32m   1026\u001b[0m \u001b[38;5;66;03m# multimetric is determined here because in the case of a callable\u001b[39;00m\n\u001b[0;32m   1027\u001b[0m \u001b[38;5;66;03m# self.scoring the return type is only known after calling\u001b[39;00m\n\u001b[0;32m   1028\u001b[0m first_test_score \u001b[38;5;241m=\u001b[39m all_out[\u001b[38;5;241m0\u001b[39m][\u001b[38;5;124m\"\u001b[39m\u001b[38;5;124mtest_scores\u001b[39m\u001b[38;5;124m\"\u001b[39m]\n",
      "File \u001b[1;32m~\\AppData\\Roaming\\Python\\Python312\\site-packages\\sklearn\\model_selection\\_search.py:1951\u001b[0m, in \u001b[0;36mRandomizedSearchCV._run_search\u001b[1;34m(self, evaluate_candidates)\u001b[0m\n\u001b[0;32m   1949\u001b[0m \u001b[38;5;28;01mdef\u001b[39;00m \u001b[38;5;21m_run_search\u001b[39m(\u001b[38;5;28mself\u001b[39m, evaluate_candidates):\n\u001b[0;32m   1950\u001b[0m \u001b[38;5;250m    \u001b[39m\u001b[38;5;124;03m\"\"\"Search n_iter candidates from param_distributions\"\"\"\u001b[39;00m\n\u001b[1;32m-> 1951\u001b[0m     \u001b[43mevaluate_candidates\u001b[49m\u001b[43m(\u001b[49m\n\u001b[0;32m   1952\u001b[0m \u001b[43m        \u001b[49m\u001b[43mParameterSampler\u001b[49m\u001b[43m(\u001b[49m\n\u001b[0;32m   1953\u001b[0m \u001b[43m            \u001b[49m\u001b[38;5;28;43mself\u001b[39;49m\u001b[38;5;241;43m.\u001b[39;49m\u001b[43mparam_distributions\u001b[49m\u001b[43m,\u001b[49m\u001b[43m \u001b[49m\u001b[38;5;28;43mself\u001b[39;49m\u001b[38;5;241;43m.\u001b[39;49m\u001b[43mn_iter\u001b[49m\u001b[43m,\u001b[49m\u001b[43m \u001b[49m\u001b[43mrandom_state\u001b[49m\u001b[38;5;241;43m=\u001b[39;49m\u001b[38;5;28;43mself\u001b[39;49m\u001b[38;5;241;43m.\u001b[39;49m\u001b[43mrandom_state\u001b[49m\n\u001b[0;32m   1954\u001b[0m \u001b[43m        \u001b[49m\u001b[43m)\u001b[49m\n\u001b[0;32m   1955\u001b[0m \u001b[43m    \u001b[49m\u001b[43m)\u001b[49m\n",
      "File \u001b[1;32m~\\AppData\\Roaming\\Python\\Python312\\site-packages\\sklearn\\model_selection\\_search.py:970\u001b[0m, in \u001b[0;36mBaseSearchCV.fit.<locals>.evaluate_candidates\u001b[1;34m(candidate_params, cv, more_results)\u001b[0m\n\u001b[0;32m    962\u001b[0m \u001b[38;5;28;01mif\u001b[39;00m \u001b[38;5;28mself\u001b[39m\u001b[38;5;241m.\u001b[39mverbose \u001b[38;5;241m>\u001b[39m \u001b[38;5;241m0\u001b[39m:\n\u001b[0;32m    963\u001b[0m     \u001b[38;5;28mprint\u001b[39m(\n\u001b[0;32m    964\u001b[0m         \u001b[38;5;124m\"\u001b[39m\u001b[38;5;124mFitting \u001b[39m\u001b[38;5;132;01m{0}\u001b[39;00m\u001b[38;5;124m folds for each of \u001b[39m\u001b[38;5;132;01m{1}\u001b[39;00m\u001b[38;5;124m candidates,\u001b[39m\u001b[38;5;124m\"\u001b[39m\n\u001b[0;32m    965\u001b[0m         \u001b[38;5;124m\"\u001b[39m\u001b[38;5;124m totalling \u001b[39m\u001b[38;5;132;01m{2}\u001b[39;00m\u001b[38;5;124m fits\u001b[39m\u001b[38;5;124m\"\u001b[39m\u001b[38;5;241m.\u001b[39mformat(\n\u001b[0;32m    966\u001b[0m             n_splits, n_candidates, n_candidates \u001b[38;5;241m*\u001b[39m n_splits\n\u001b[0;32m    967\u001b[0m         )\n\u001b[0;32m    968\u001b[0m     )\n\u001b[1;32m--> 970\u001b[0m out \u001b[38;5;241m=\u001b[39m \u001b[43mparallel\u001b[49m\u001b[43m(\u001b[49m\n\u001b[0;32m    971\u001b[0m \u001b[43m    \u001b[49m\u001b[43mdelayed\u001b[49m\u001b[43m(\u001b[49m\u001b[43m_fit_and_score\u001b[49m\u001b[43m)\u001b[49m\u001b[43m(\u001b[49m\n\u001b[0;32m    972\u001b[0m \u001b[43m        \u001b[49m\u001b[43mclone\u001b[49m\u001b[43m(\u001b[49m\u001b[43mbase_estimator\u001b[49m\u001b[43m)\u001b[49m\u001b[43m,\u001b[49m\n\u001b[0;32m    973\u001b[0m \u001b[43m        \u001b[49m\u001b[43mX\u001b[49m\u001b[43m,\u001b[49m\n\u001b[0;32m    974\u001b[0m \u001b[43m        \u001b[49m\u001b[43my\u001b[49m\u001b[43m,\u001b[49m\n\u001b[0;32m    975\u001b[0m \u001b[43m        \u001b[49m\u001b[43mtrain\u001b[49m\u001b[38;5;241;43m=\u001b[39;49m\u001b[43mtrain\u001b[49m\u001b[43m,\u001b[49m\n\u001b[0;32m    976\u001b[0m \u001b[43m        \u001b[49m\u001b[43mtest\u001b[49m\u001b[38;5;241;43m=\u001b[39;49m\u001b[43mtest\u001b[49m\u001b[43m,\u001b[49m\n\u001b[0;32m    977\u001b[0m \u001b[43m        \u001b[49m\u001b[43mparameters\u001b[49m\u001b[38;5;241;43m=\u001b[39;49m\u001b[43mparameters\u001b[49m\u001b[43m,\u001b[49m\n\u001b[0;32m    978\u001b[0m \u001b[43m        \u001b[49m\u001b[43msplit_progress\u001b[49m\u001b[38;5;241;43m=\u001b[39;49m\u001b[43m(\u001b[49m\u001b[43msplit_idx\u001b[49m\u001b[43m,\u001b[49m\u001b[43m \u001b[49m\u001b[43mn_splits\u001b[49m\u001b[43m)\u001b[49m\u001b[43m,\u001b[49m\n\u001b[0;32m    979\u001b[0m \u001b[43m        \u001b[49m\u001b[43mcandidate_progress\u001b[49m\u001b[38;5;241;43m=\u001b[39;49m\u001b[43m(\u001b[49m\u001b[43mcand_idx\u001b[49m\u001b[43m,\u001b[49m\u001b[43m \u001b[49m\u001b[43mn_candidates\u001b[49m\u001b[43m)\u001b[49m\u001b[43m,\u001b[49m\n\u001b[0;32m    980\u001b[0m \u001b[43m        \u001b[49m\u001b[38;5;241;43m*\u001b[39;49m\u001b[38;5;241;43m*\u001b[39;49m\u001b[43mfit_and_score_kwargs\u001b[49m\u001b[43m,\u001b[49m\n\u001b[0;32m    981\u001b[0m \u001b[43m    \u001b[49m\u001b[43m)\u001b[49m\n\u001b[0;32m    982\u001b[0m \u001b[43m    \u001b[49m\u001b[38;5;28;43;01mfor\u001b[39;49;00m\u001b[43m \u001b[49m\u001b[43m(\u001b[49m\u001b[43mcand_idx\u001b[49m\u001b[43m,\u001b[49m\u001b[43m \u001b[49m\u001b[43mparameters\u001b[49m\u001b[43m)\u001b[49m\u001b[43m,\u001b[49m\u001b[43m \u001b[49m\u001b[43m(\u001b[49m\u001b[43msplit_idx\u001b[49m\u001b[43m,\u001b[49m\u001b[43m \u001b[49m\u001b[43m(\u001b[49m\u001b[43mtrain\u001b[49m\u001b[43m,\u001b[49m\u001b[43m \u001b[49m\u001b[43mtest\u001b[49m\u001b[43m)\u001b[49m\u001b[43m)\u001b[49m\u001b[43m \u001b[49m\u001b[38;5;129;43;01min\u001b[39;49;00m\u001b[43m \u001b[49m\u001b[43mproduct\u001b[49m\u001b[43m(\u001b[49m\n\u001b[0;32m    983\u001b[0m \u001b[43m        \u001b[49m\u001b[38;5;28;43menumerate\u001b[39;49m\u001b[43m(\u001b[49m\u001b[43mcandidate_params\u001b[49m\u001b[43m)\u001b[49m\u001b[43m,\u001b[49m\n\u001b[0;32m    984\u001b[0m \u001b[43m        \u001b[49m\u001b[38;5;28;43menumerate\u001b[39;49m\u001b[43m(\u001b[49m\u001b[43mcv\u001b[49m\u001b[38;5;241;43m.\u001b[39;49m\u001b[43msplit\u001b[49m\u001b[43m(\u001b[49m\u001b[43mX\u001b[49m\u001b[43m,\u001b[49m\u001b[43m \u001b[49m\u001b[43my\u001b[49m\u001b[43m,\u001b[49m\u001b[43m \u001b[49m\u001b[38;5;241;43m*\u001b[39;49m\u001b[38;5;241;43m*\u001b[39;49m\u001b[43mrouted_params\u001b[49m\u001b[38;5;241;43m.\u001b[39;49m\u001b[43msplitter\u001b[49m\u001b[38;5;241;43m.\u001b[39;49m\u001b[43msplit\u001b[49m\u001b[43m)\u001b[49m\u001b[43m)\u001b[49m\u001b[43m,\u001b[49m\n\u001b[0;32m    985\u001b[0m \u001b[43m    \u001b[49m\u001b[43m)\u001b[49m\n\u001b[0;32m    986\u001b[0m \u001b[43m\u001b[49m\u001b[43m)\u001b[49m\n\u001b[0;32m    988\u001b[0m \u001b[38;5;28;01mif\u001b[39;00m \u001b[38;5;28mlen\u001b[39m(out) \u001b[38;5;241m<\u001b[39m \u001b[38;5;241m1\u001b[39m:\n\u001b[0;32m    989\u001b[0m     \u001b[38;5;28;01mraise\u001b[39;00m \u001b[38;5;167;01mValueError\u001b[39;00m(\n\u001b[0;32m    990\u001b[0m         \u001b[38;5;124m\"\u001b[39m\u001b[38;5;124mNo fits were performed. \u001b[39m\u001b[38;5;124m\"\u001b[39m\n\u001b[0;32m    991\u001b[0m         \u001b[38;5;124m\"\u001b[39m\u001b[38;5;124mWas the CV iterator empty? \u001b[39m\u001b[38;5;124m\"\u001b[39m\n\u001b[0;32m    992\u001b[0m         \u001b[38;5;124m\"\u001b[39m\u001b[38;5;124mWere there no candidates?\u001b[39m\u001b[38;5;124m\"\u001b[39m\n\u001b[0;32m    993\u001b[0m     )\n",
      "File \u001b[1;32m~\\AppData\\Roaming\\Python\\Python312\\site-packages\\sklearn\\utils\\parallel.py:77\u001b[0m, in \u001b[0;36mParallel.__call__\u001b[1;34m(self, iterable)\u001b[0m\n\u001b[0;32m     72\u001b[0m config \u001b[38;5;241m=\u001b[39m get_config()\n\u001b[0;32m     73\u001b[0m iterable_with_config \u001b[38;5;241m=\u001b[39m (\n\u001b[0;32m     74\u001b[0m     (_with_config(delayed_func, config), args, kwargs)\n\u001b[0;32m     75\u001b[0m     \u001b[38;5;28;01mfor\u001b[39;00m delayed_func, args, kwargs \u001b[38;5;129;01min\u001b[39;00m iterable\n\u001b[0;32m     76\u001b[0m )\n\u001b[1;32m---> 77\u001b[0m \u001b[38;5;28;01mreturn\u001b[39;00m \u001b[38;5;28;43msuper\u001b[39;49m\u001b[43m(\u001b[49m\u001b[43m)\u001b[49m\u001b[38;5;241;43m.\u001b[39;49m\u001b[38;5;21;43m__call__\u001b[39;49m\u001b[43m(\u001b[49m\u001b[43miterable_with_config\u001b[49m\u001b[43m)\u001b[49m\n",
      "File \u001b[1;32m~\\AppData\\Roaming\\Python\\Python312\\site-packages\\joblib\\parallel.py:2007\u001b[0m, in \u001b[0;36mParallel.__call__\u001b[1;34m(self, iterable)\u001b[0m\n\u001b[0;32m   2001\u001b[0m \u001b[38;5;66;03m# The first item from the output is blank, but it makes the interpreter\u001b[39;00m\n\u001b[0;32m   2002\u001b[0m \u001b[38;5;66;03m# progress until it enters the Try/Except block of the generator and\u001b[39;00m\n\u001b[0;32m   2003\u001b[0m \u001b[38;5;66;03m# reaches the first `yield` statement. This starts the asynchronous\u001b[39;00m\n\u001b[0;32m   2004\u001b[0m \u001b[38;5;66;03m# dispatch of the tasks to the workers.\u001b[39;00m\n\u001b[0;32m   2005\u001b[0m \u001b[38;5;28mnext\u001b[39m(output)\n\u001b[1;32m-> 2007\u001b[0m \u001b[38;5;28;01mreturn\u001b[39;00m output \u001b[38;5;28;01mif\u001b[39;00m \u001b[38;5;28mself\u001b[39m\u001b[38;5;241m.\u001b[39mreturn_generator \u001b[38;5;28;01melse\u001b[39;00m \u001b[38;5;28;43mlist\u001b[39;49m\u001b[43m(\u001b[49m\u001b[43moutput\u001b[49m\u001b[43m)\u001b[49m\n",
      "File \u001b[1;32m~\\AppData\\Roaming\\Python\\Python312\\site-packages\\joblib\\parallel.py:1650\u001b[0m, in \u001b[0;36mParallel._get_outputs\u001b[1;34m(self, iterator, pre_dispatch)\u001b[0m\n\u001b[0;32m   1647\u001b[0m     \u001b[38;5;28;01myield\u001b[39;00m\n\u001b[0;32m   1649\u001b[0m     \u001b[38;5;28;01mwith\u001b[39;00m \u001b[38;5;28mself\u001b[39m\u001b[38;5;241m.\u001b[39m_backend\u001b[38;5;241m.\u001b[39mretrieval_context():\n\u001b[1;32m-> 1650\u001b[0m         \u001b[38;5;28;01myield from\u001b[39;00m \u001b[38;5;28mself\u001b[39m\u001b[38;5;241m.\u001b[39m_retrieve()\n\u001b[0;32m   1652\u001b[0m \u001b[38;5;28;01mexcept\u001b[39;00m \u001b[38;5;167;01mGeneratorExit\u001b[39;00m:\n\u001b[0;32m   1653\u001b[0m     \u001b[38;5;66;03m# The generator has been garbage collected before being fully\u001b[39;00m\n\u001b[0;32m   1654\u001b[0m     \u001b[38;5;66;03m# consumed. This aborts the remaining tasks if possible and warn\u001b[39;00m\n\u001b[0;32m   1655\u001b[0m     \u001b[38;5;66;03m# the user if necessary.\u001b[39;00m\n\u001b[0;32m   1656\u001b[0m     \u001b[38;5;28mself\u001b[39m\u001b[38;5;241m.\u001b[39m_exception \u001b[38;5;241m=\u001b[39m \u001b[38;5;28;01mTrue\u001b[39;00m\n",
      "File \u001b[1;32m~\\AppData\\Roaming\\Python\\Python312\\site-packages\\joblib\\parallel.py:1762\u001b[0m, in \u001b[0;36mParallel._retrieve\u001b[1;34m(self)\u001b[0m\n\u001b[0;32m   1757\u001b[0m \u001b[38;5;66;03m# If the next job is not ready for retrieval yet, we just wait for\u001b[39;00m\n\u001b[0;32m   1758\u001b[0m \u001b[38;5;66;03m# async callbacks to progress.\u001b[39;00m\n\u001b[0;32m   1759\u001b[0m \u001b[38;5;28;01mif\u001b[39;00m ((\u001b[38;5;28mlen\u001b[39m(\u001b[38;5;28mself\u001b[39m\u001b[38;5;241m.\u001b[39m_jobs) \u001b[38;5;241m==\u001b[39m \u001b[38;5;241m0\u001b[39m) \u001b[38;5;129;01mor\u001b[39;00m\n\u001b[0;32m   1760\u001b[0m     (\u001b[38;5;28mself\u001b[39m\u001b[38;5;241m.\u001b[39m_jobs[\u001b[38;5;241m0\u001b[39m]\u001b[38;5;241m.\u001b[39mget_status(\n\u001b[0;32m   1761\u001b[0m         timeout\u001b[38;5;241m=\u001b[39m\u001b[38;5;28mself\u001b[39m\u001b[38;5;241m.\u001b[39mtimeout) \u001b[38;5;241m==\u001b[39m TASK_PENDING)):\n\u001b[1;32m-> 1762\u001b[0m     \u001b[43mtime\u001b[49m\u001b[38;5;241;43m.\u001b[39;49m\u001b[43msleep\u001b[49m\u001b[43m(\u001b[49m\u001b[38;5;241;43m0.01\u001b[39;49m\u001b[43m)\u001b[49m\n\u001b[0;32m   1763\u001b[0m     \u001b[38;5;28;01mcontinue\u001b[39;00m\n\u001b[0;32m   1765\u001b[0m \u001b[38;5;66;03m# We need to be careful: the job list can be filling up as\u001b[39;00m\n\u001b[0;32m   1766\u001b[0m \u001b[38;5;66;03m# we empty it and Python list are not thread-safe by\u001b[39;00m\n\u001b[0;32m   1767\u001b[0m \u001b[38;5;66;03m# default hence the use of the lock\u001b[39;00m\n",
      "\u001b[1;31mKeyboardInterrupt\u001b[0m: "
     ]
    }
   ],
   "source": [
    "for i,j,k in zip(xtrain_data,ytrain_data,name):\n",
    "    print('Data is ',k)\n",
    "    best_log = []\n",
    "    # Setup the hyperparameter grid, (not scaled data)\n",
    "    # <write your code: define the parameters to use the RandomizedSearchCV>\n",
    "    param_grid = {\n",
    "        'model__C': [0.001, 0.01,0.1, 1], \n",
    "        'model__kernel': ['linear', 'poly', 'sigmoid'],  \n",
    "        'model__gamma': ['scale', 'auto', 0.001, 0.01, 0.1, 1], \n",
    "        'model__degree': [2, 3, 4, 5]\n",
    "    }\n",
    "\n",
    "    pipeline = Pipeline([\n",
    "        ('scaler', StandardScaler()), \n",
    "        ('model', SVC())  \n",
    "    ])\n",
    "    # Instantiate a logistic regression classifier\n",
    "    # Instantiate the RandomizedSearchCV object\n",
    "    svc_cv = RandomizedSearchCV(pipeline, param_grid ,scoring = 'roc_auc', cv=5,  n_iter=10, random_state=0, n_jobs=-1)\n",
    "    # Fit it to the data\n",
    "    # <write your code: fit the training data to the model>\n",
    "    svc_cv.fit(i,j)\n",
    "    \n",
    "    best_log.append(svc_cv.best_params_)\n",
    "    # Print the tuned parameters and score\n",
    "    print(\"Tuned svm Parameters: {}\".format(svc_cv.best_params_))\n",
    "    print(\"_\" * 100)"
   ]
  },
  {
   "cell_type": "code",
   "execution_count": null,
   "metadata": {},
   "outputs": [],
   "source": [
    "svm_model=SVC(random_state=42,C=0.001,kernel='linear',gamma='scale')\n",
    "for i, j, k in zip(xtrain_data, ytrain_data, name):\n",
    "    print('Data is', k)\n",
    "    model_eval(svm_model, i, j, X_test, y_test)\n",
    "    print(\"_\" * 60)"
   ]
  },
  {
   "cell_type": "markdown",
   "metadata": {},
   "source": [
    "# 7) Conclusion:"
   ]
  },
  {
   "cell_type": "markdown",
   "metadata": {},
   "source": [
    "### Conclude on the best model, the best parameter, and the best sampling approach used."
   ]
  },
  {
   "cell_type": "markdown",
   "metadata": {},
   "source": [
    "\\<write your answer here\\>\n",
    "best model: \n",
    "\n",
    "well, KNN with MOSTE and over samling achived 1.0 (100%) train accuracy and about 100% test accuracy, this is a sign of overfitting and memorizing the training data completely.\n",
    "\n",
    "so, the best model is Random Forest with Over Sampling:\n",
    "train acc=0.912\n",
    "test acc=0.913\n",
    "k-fold=0.852\n",
    "\n",
    "the train acc is higher than normal sampling so its learning more \n",
    "\n",
    "the test acc is still high that means the model is performing well\n",
    "\n",
    "but the k-fold is lower than the test acc which may idicate some overfitting but not severe\n",
    "\n",
    "the best parameter for this model was:\n",
    "\n",
    "{'n_estimators': 100, 'min_samples_split': 4, 'max_depth': 15}\n",
    "\n",
    "\n"
   ]
  }
 ],
 "metadata": {
  "kernelspec": {
   "display_name": "Python 3",
   "language": "python",
   "name": "python3"
  },
  "language_info": {
   "codemirror_mode": {
    "name": "ipython",
    "version": 3
   },
   "file_extension": ".py",
   "mimetype": "text/x-python",
   "name": "python",
   "nbconvert_exporter": "python",
   "pygments_lexer": "ipython3",
   "version": "3.12.6"
  }
 },
 "nbformat": 4,
 "nbformat_minor": 4
}
