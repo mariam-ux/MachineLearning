{
 "cells": [
  {
   "cell_type": "code",
   "execution_count": 4,
   "metadata": {},
   "outputs": [
    {
     "name": "stderr",
     "output_type": "stream",
     "text": [
      "<>:21: SyntaxWarning: invalid escape sequence '\\d'\n",
      "<>:21: SyntaxWarning: invalid escape sequence '\\d'\n",
      "C:\\Users\\acer\\AppData\\Local\\Temp\\ipykernel_16316\\1349754505.py:21: SyntaxWarning: invalid escape sequence '\\d'\n",
      "  df['milage'] = df['milage'].str.replace('[^\\d]', '', regex=True).astype(float)\n"
     ]
    },
    {
     "name": "stdout",
     "output_type": "stream",
     "text": [
      "Best Parameters: {'svr__C': 10, 'svr__epsilon': 0.01, 'svr__kernel': 'linear'}\n",
      "Cross-Validation R2 Score: 0.1210\n",
      "MAE: 26317.95, MSE: 20389553963.02, R2 Score: 0.0024\n"
     ]
    }
   ],
   "source": [
    "# Import necessary libraries\n",
    "import numpy as np\n",
    "import pandas as pd\n",
    "from sklearn.svm import SVR\n",
    "from sklearn.preprocessing import StandardScaler, OneHotEncoder\n",
    "from sklearn.compose import ColumnTransformer\n",
    "from sklearn.model_selection import train_test_split, GridSearchCV, cross_val_score\n",
    "from sklearn.metrics import mean_absolute_error, mean_squared_error, r2_score\n",
    "from sklearn.pipeline import Pipeline\n",
    "import re\n",
    "\n",
    "# Load dataset\n",
    "df = pd.read_csv('./used_cars.csv')\n",
    "\n",
    "# Drop or fill missing values\n",
    "df.dropna(subset=['price', 'milage', 'model_year'], inplace=True)\n",
    "df.fillna('None reported', inplace=True)\n",
    "\n",
    "# Data cleaning\n",
    "# Remove non-numeric characters from 'milage' and 'price'\n",
    "df['milage'] = df['milage'].str.replace('[^\\d]', '', regex=True).astype(float)\n",
    "df['price'] = df['price'].str.replace('[$,]', '', regex=True).astype(float)\n",
    "\n",
    "# Extract horsepower from the engine column\n",
    "def extract_hp(engine_str):\n",
    "    match = re.search(r'(\\d+\\.\\d+|\\d+)HP', str(engine_str))\n",
    "    return float(match.group(1)) if match else 0\n",
    "\n",
    "df['horsepower'] = df['engine'].apply(extract_hp)\n",
    "\n",
    "# Create new features\n",
    "current_year = 2024\n",
    "df['vehicle_age'] = current_year - df['model_year']\n",
    "df['accident_flag'] = df['accident'].apply(lambda x: 1 if 'at least 1' in str(x).lower() else 0)\n",
    "\n",
    "# Identify categorical and numerical features\n",
    "categorical_features = ['brand', 'fuel_type', 'transmission', 'ext_col', 'int_col', 'clean_title']\n",
    "numerical_features = ['milage', 'horsepower', 'vehicle_age', 'accident_flag']\n",
    "\n",
    "# Preprocessing pipeline\n",
    "preprocessor = ColumnTransformer(\n",
    "    transformers=[\n",
    "        ('num', StandardScaler(), numerical_features),\n",
    "        ('cat', OneHotEncoder(handle_unknown='ignore'), categorical_features)\n",
    "    ]\n",
    ")\n",
    "\n",
    "# Define features and target\n",
    "X = df[categorical_features + numerical_features]\n",
    "y = df['price']\n",
    "\n",
    "# Train-test split\n",
    "X_train, X_test, y_train, y_test = train_test_split(X, y, test_size=0.2, random_state=42)\n",
    "\n",
    "# Create SVR pipeline\n",
    "svr_pipeline = Pipeline([\n",
    "    ('preprocessor', preprocessor),\n",
    "    ('svr', SVR())\n",
    "])\n",
    "\n",
    "# Hyperparameter tuning\n",
    "param_grid = {\n",
    "    'svr__C': [0.1, 1, 10],\n",
    "    'svr__epsilon': [0.01, 0.1, 0.5],\n",
    "    'svr__kernel': ['linear', 'rbf', 'poly']\n",
    "}\n",
    "\n",
    "grid_search = GridSearchCV(svr_pipeline, param_grid, cv=5, scoring='r2', n_jobs=-1)\n",
    "grid_search.fit(X_train, y_train)\n",
    "\n",
    "# Best model\n",
    "best_svr = grid_search.best_estimator_\n",
    "\n",
    "# Cross-validation scores\n",
    "cv_scores = cross_val_score(best_svr, X_train, y_train, cv=5)\n",
    "\n",
    "# Model evaluation\n",
    "y_pred = best_svr.predict(X_test)\n",
    "mae = mean_absolute_error(y_test, y_pred)\n",
    "mse = mean_squared_error(y_test, y_pred)\n",
    "r2 = r2_score(y_test, y_pred)\n",
    "\n",
    "# Results\n",
    "print(f'Best Parameters: {grid_search.best_params_}')\n",
    "print(f'Cross-Validation R2 Score: {cv_scores.mean():.4f}')\n",
    "print(f'MAE: {mae:.2f}, MSE: {mse:.2f}, R2 Score: {r2:.4f}')"
   ]
  }
 ],
 "metadata": {
  "kernelspec": {
   "display_name": "Python 3",
   "language": "python",
   "name": "python3"
  },
  "language_info": {
   "codemirror_mode": {
    "name": "ipython",
    "version": 3
   },
   "file_extension": ".py",
   "mimetype": "text/x-python",
   "name": "python",
   "nbconvert_exporter": "python",
   "pygments_lexer": "ipython3",
   "version": "3.12.6"
  }
 },
 "nbformat": 4,
 "nbformat_minor": 2
}
